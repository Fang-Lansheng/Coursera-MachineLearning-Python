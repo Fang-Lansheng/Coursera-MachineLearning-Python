{
 "cells": [
  {
   "cell_type": "markdown",
   "metadata": {
    "collapsed": true,
    "pycharm": {
     "name": "#%% md\n"
    }
   },
   "source": [
    "# Programming Exercise 8: Anomaly Detection and Recommender System\n",
    "In this exercise, you will implement the anomaly detection algorithm and\n",
    "apply it to detect failing servers on a network. In the second part, you will\n",
    "use collaborative filtering to build a recommender system for movies."
   ]
  },
  {
   "cell_type": "code",
   "execution_count": 1,
   "metadata": {
    "pycharm": {
     "name": "#%%\n"
    }
   },
   "outputs": [],
   "source": [
    "# Scientific and vector computation for python\n",
    "import numpy as np\n",
    "\n",
    "# Import regular expressions process emails\n",
    "import re\n",
    "\n",
    "# Plotting library\n",
    "import matplotlib.pyplot as plt\n",
    "\n",
    "# Optimization module in scipy\n",
    "from scipy import optimize\n",
    "\n",
    "# will be used to load MATLAB mat datafile format\n",
    "from scipy.io import loadmat\n",
    "\n",
    "# library written for this exercise providing additional functions\n",
    "import utils\n",
    "\n",
    "# tells matplotlib to embed plots with the notebook\n",
    "%matplotlib inline"
   ]
  },
  {
   "cell_type": "markdown",
   "metadata": {
    "pycharm": {
     "name": "#%% md\n"
    }
   },
   "source": [
    "## 1 Anomaly Detection\n",
    "In this exercise, you will implement an anomaly detection algorithm to detect\n",
    "anomalous behavior in server computers. The features measure the throughput\n",
    "(mb/s) and latency (ms) of response of each server. While your servers were\n",
    "operating, you collected $m = 307$ examples of how they were behaving, and thus\n",
    "have an unlabeled dataset $\\{x^{(1)}, \\dots, x^{(m)}\\}$. You suspect that the\n",
    "vast majority of these examples are “normal” (non-anomalous) examples of the\n",
    "servers operating normally, but there might also be some examples of servers\n",
    "acting anomalously within this dataset.\n",
    "\n",
    "You will use a Gaussian model to detect anomalous examples in your dataset. You\n",
    "will first start on a 2D dataset that will allow you to visualize what the\n",
    "algorithm is doing. On that dataset you will fit a Gaussian distribution and\n",
    "then find values that have very low probability and hence can be considered\n",
    "anomalies. After that, you will apply the anomaly detection algorithm to a\n",
    "larger dataset with many dimensions.\n",
    "\n",
    "We start this exercise by using a small dataset that is easy to visualize. Our\n",
    "example case consists of two network server statistics across several machines:\n",
    "the latency and throughput of each machine."
   ]
  },
  {
   "cell_type": "code",
   "execution_count": 2,
   "metadata": {
    "pycharm": {
     "name": "#%%\n"
    }
   },
   "outputs": [
    {
     "data": {
      "text/plain": "<Figure size 432x288 with 1 Axes>",
      "image/png": "[encoded data removed]"
     },
     "metadata": {
      "needs_background": "light"
     },
     "output_type": "display_data"
    }
   ],
   "source": [
    "# The following command loads the dataset\n",
    "data = loadmat('ex8data1.mat')\n",
    "X, Xval, yval = data['X'], data['Xval'], data['yval'][:, 0]\n",
    "\n",
    "# Visualize the example dataset\n",
    "plt.plot(X[:, 0], X[:, 1], 'co', ms=6, mec='b', mew=1)\n",
    "plt.axis([0, 30, 0, 30])\n",
    "plt.xlabel('Latency (ms)')\n",
    "plt.ylabel('Throughput (mb/s)')\n",
    "pass"
   ]
  },
  {
   "cell_type": "markdown",
   "metadata": {
    "pycharm": {
     "name": "#%% md\n"
    }
   },
   "source": [
    "### 1.1 Gaussian distribution\n",
    "To perform anomaly detection, you will first need to fit a model to the data's\n",
    "distribution. Given a training set $\\{x^{(1)}, \\dots, x^{(m)} \\}$ (where\n",
    "$x^{(i)} \\in \\mathbb{R}^n$ ), you want to estimate the Gaussian distribution\n",
    "for each of the features $x_i$ . For each feature $i = 1, \\dots ,n$, you need to\n",
    "find parameters $\\mu_i$ and $\\sigma_i^2$ that fit the data in the $i^{\\text{th}}$\n",
    "dimension $\\{ x_i^{(1)}, \\dots, x_i^{(m)} \\}$ (the $i^{\\text{th}}$ dimension of\n",
    "each example).\n",
    "\n",
    "The Gaussian distribution is given by\n",
    "\n",
    "$$ p\\left( x; \\mu, \\sigma^2 \\right) = \\frac{1}{\\sqrt{2\\pi}\\sigma} e^{-\\frac{\\left(x-\\mu\\right)^2}{2\\sigma^2}},$$\n",
    "\n",
    "where $\\mu$ is the mean and $\\sigma^2$ is the variance.\n",
    "\n",
    "### 1.2 Estimating parameters for a Gaussian\n",
    "You can estimate the parameters $\\left( \\mu_i, \\sigma_i^2 \\right)$, of the\n",
    "$i^{\\text{th}}$ feature by using the following equations. To estimate the mean,\n",
    "you will use:\n",
    "\n",
    "$$ \\mu_i = \\frac{1}{m} \\sum_{j=1}^m x_i^{(j)},$$\n",
    "\n",
    "and for the variance you will use:\n",
    "\n",
    "$$ \\sigma_i^2 = \\frac{1}{m} \\sum_{j=1}^m \\left( x_i^{(j)} - \\mu_i \\right)^2.$$\n",
    "\n",
    "Your task is to complete the code in the function `estimateGaussian`. This\n",
    "function takes as input the data matrix $X$ and should output an $n$-dimension\n",
    "vector `mu` that holds the mean for each of the $n$ features and another\n",
    "$n$-dimension vector `sigma2` that holds the variances of each of the features.\n",
    "You can implement this using a `for`-loop over every feature and every training\n",
    "example (though a vectorized implementation might be more efficient; feel free\n",
    "to use a vectorized implementation if you prefer)."
   ]
  },
  {
   "cell_type": "code",
   "execution_count": 3,
   "metadata": {
    "pycharm": {
     "name": "#%%\n"
    }
   },
   "outputs": [],
   "source": [
    "def estimateGaussian(X):\n",
    "    \"\"\"\n",
    "    This function estimates the parameters of a Gaussian distribution using a\n",
    "    provided dataset.\n",
    "\n",
    "    Parameters\n",
    "    ----------\n",
    "    X : array_like\n",
    "        The dataset of shape (m x n) with each n-dimensional data point in\n",
    "        one row, and each total of m data points.\n",
    "\n",
    "    Returns\n",
    "    -------\n",
    "    mu : array_like\n",
    "        A vector of shape (n,) containing the means of each dimension.\n",
    "\n",
    "    sigma2 : array_like\n",
    "        A vector of shape (n,) containing the computed variances of each dimension.\n",
    "    \"\"\"\n",
    "    # Useful variables\n",
    "    m, n = X.shape\n",
    "\n",
    "    mu = (1 / m) * np.sum(X, axis=0)\n",
    "    sigma2 = (1 / m) * np.sum((X - mu)**2, axis=0)\n",
    "\n",
    "    return mu, sigma2"
   ]
  },
  {
   "cell_type": "markdown",
   "metadata": {
    "pycharm": {
     "name": "#%% md\n"
    }
   },
   "source": [
    "Once you have completed the code in `estimateGaussian`, the next cell will\n",
    "visualize the contours of the fitted Gaussian distribution.\n",
    "\n",
    "To do the visualization of the Gaussian fit, we first estimate the parameters\n",
    "of our assumed Gaussian distribution, then compute the probabilities for each\n",
    "of the points and then visualize both the overall distribution and where each\n",
    "of the points falls in terms of that distribution."
   ]
  },
  {
   "cell_type": "code",
   "execution_count": 4,
   "metadata": {
    "pycharm": {
     "name": "#%%\n"
    }
   },
   "outputs": [
    {
     "data": {
      "text/plain": "<Figure size 432x288 with 1 Axes>",
      "image/png": "[encoded data removed]"
     },
     "metadata": {
      "needs_background": "light"
     },
     "output_type": "display_data"
    }
   ],
   "source": [
    "# Estimate mu and sigma2\n",
    "mu, sigma2 = estimateGaussian(X)\n",
    "\n",
    "# Returns the density of the multivariate normal at each data point (row) of X\n",
    "p = utils.multivariateGaussian(X, mu, sigma2)\n",
    "\n",
    "# Visualize the fit\n",
    "utils.visualizeFit(X, mu, sigma2)\n",
    "plt.xlabel('Latency (ms)')\n",
    "plt.ylabel('Throughput (mb/s)')\n",
    "plt.tight_layout()\n",
    "pass"
   ]
  },
  {
   "cell_type": "markdown",
   "metadata": {
    "pycharm": {
     "name": "#%% md\n"
    }
   },
   "source": [
    "### 1.3 Selecting the threshold $\\varepsilon$\n",
    "Now that you have estimated the Gaussian parameters, you can investigate which\n",
    "examples have a very high probability given this distribution and which\n",
    "examples have a very low probability. The low probability examples are more\n",
    "likely to be the anomalies in our dataset. One way to determine which examples\n",
    "are anomalies is to select a threshold based on a cross validation set. In this\n",
    "part of the exercise, you will implement an algorithm to select the threshold\n",
    "$\\varepsilon$ using the $F_1$ score on a cross validation set.\n",
    "\n",
    "You should now complete the code for the function `selectThreshold`. For this,\n",
    "we will use a cross validation set\n",
    "$\\{ (x_{cv}^{(1)}, y_{cv}^{(1)}), \\dots, (x_{cv}^{(m_{cv})}, y_{cv}^{(m_{cv})})\\}$,\n",
    "where the label $y = 1$ corresponds to an anomalous example, and $y = 0$\n",
    "corresponds to a normal example. For each cross validation example, we will\n",
    "compute $p\\left( x_{cv}^{(i)}\\right)$. The vector of all of these\n",
    "probabilities $p\\left( x_{cv}^{(1)}\\right), \\dots, p\\left( x_{cv}^{(m_{cv})}\\right)$\n",
    "is passed to `selectThreshold` in the vector `pval`. The corresponding labels\n",
    "$y_{cv}^{(1)} , \\dots , y_{cv}^{(m_{cv})}$ are passed to the same function in\n",
    "the vector `yval`.\n",
    "\n",
    "The function `selectThreshold` should return two values; the first is the\n",
    "selected threshold $\\varepsilon$. If an example $x$ has a low probability\n",
    "$p(x) < \\varepsilon$, then it is considered to be an anomaly. The function\n",
    "should also return the $F_1$ score, which tells you how well you are doing on\n",
    "finding the ground truth anomalies given a certain threshold. For many\n",
    "different values of $\\varepsilon$, you will compute the resulting $F_1$ score\n",
    "by computing how many examples the current threshold classifies correctly and\n",
    "incorrectly.\n",
    "\n",
    "The $F_1$ score is computed using precision ($prec$) and recall ($rec$):\n",
    "\n",
    "$$ F_1 = \\frac{2 \\cdot prec \\cdot rec}{prec + rec}, $$\n",
    "\n",
    "You compute precision and recall by:\n",
    "\n",
    "$$ prec = \\frac{tp}{tp + fp}  $$\n",
    "$$ rec = \\frac{tp}{tp + fn} $$\n",
    "\n",
    "where:\n",
    "- $tp$ is the number of true positives: the ground truth label says it’s an\n",
    "anomaly and our algorithm correctly classified it as an anomaly.\n",
    "\n",
    "- $fp$ is the number of false positives: the ground truth label says it’s not\n",
    "an anomaly, but our algorithm incorrectly classified it as an anomaly.\n",
    "\n",
    "- $fn$ is the number of false negatives: the ground truth label says it’s an\n",
    "anomaly, but our algorithm incorrectly classified it as not being anomalous.\n",
    "\n",
    "In the provided code `selectThreshold`, there is already a loop that will try\n",
    "many different values of $\\varepsilon$ and select the best $\\varepsilon$ based\n",
    "on the $F_1$ score. You should now complete the code in `selectThreshold`. You\n",
    "can implement the computation of the $F_1$ score using a `for`-loop over all\n",
    "the cross validation examples (to compute the values $tp$, $fp$, $fn$). You\n",
    "should see a value for `epsilon` of about 8.99e-05."
   ]
  },
  {
   "cell_type": "code",
   "execution_count": 5,
   "metadata": {
    "pycharm": {
     "name": "#%%\n"
    }
   },
   "outputs": [],
   "source": [
    "def selectThreshold(yval, pval):\n",
    "    \"\"\"\n",
    "    Find the best threshold (epsilon) to use for selecting outliers based\n",
    "    on the results from a validation set and the ground truth.\n",
    "\n",
    "    Parameters\n",
    "    ----------\n",
    "    yval : array_like\n",
    "        The validation dataset of shape (m x n) where m is the number\n",
    "        of examples an n is the number of dimensions(features).\n",
    "\n",
    "    pval : array_like\n",
    "        The ground truth labels of shape (m, ).\n",
    "\n",
    "    Returns\n",
    "    -------\n",
    "    bestEpsilon : array_like\n",
    "        A vector of shape (n,) corresponding to the threshold value.\n",
    "\n",
    "    bestF1 : float\n",
    "        The value for the best F1 score.\n",
    "    \"\"\"\n",
    "    bestEpsilon = 0\n",
    "    bestF1 = 0\n",
    "    F1 = 0\n",
    "\n",
    "    for epsilon in np.linspace(1.01 * min(pval), max(pval), 1000):\n",
    "        predictions = (pval < epsilon)\n",
    "        tp = np.sum((predictions == yval) & (yval == 1))\n",
    "        fp = np.sum((predictions == 1) & (yval == 0))\n",
    "        fn = np.sum((predictions == 0) & (yval == 1))\n",
    "\n",
    "        prec = tp / (tp + fp)\n",
    "        rec = tp / (tp + fn)\n",
    "\n",
    "        F1 = 2 * prec * rec / (prec + rec)\n",
    "\n",
    "        if F1 > bestF1:\n",
    "            bestF1 = F1\n",
    "            bestEpsilon = epsilon\n",
    "\n",
    "    return bestEpsilon, bestF1"
   ]
  },
  {
   "cell_type": "markdown",
   "metadata": {
    "pycharm": {
     "name": "#%% md\n"
    }
   },
   "source": [
    "Once you have completed the code in `selectThreshold`, the next cell will run\n",
    "your anomaly detection code and circle the anomalies in the plot."
   ]
  },
  {
   "cell_type": "code",
   "execution_count": 6,
   "metadata": {
    "pycharm": {
     "name": "#%%\n"
    }
   },
   "outputs": [
    {
     "name": "stdout",
     "output_type": "stream",
     "text": [
      "Best epsilon found using cross-validation: 8.9999e-05\n",
      "(This value should be about 8.99e-05)\n",
      "Best F1 score on cross validation set: 0.875000\n",
      "(This value should be about 0.875000)\n"
     ]
    },
    {
     "data": {
      "text/plain": "<Figure size 432x288 with 1 Axes>",
      "image/png": "[encoded data removed]"
     },
     "metadata": {
      "needs_background": "light"
     },
     "output_type": "display_data"
    }
   ],
   "source": [
    "pval = utils.multivariateGaussian(Xval, mu, sigma2)\n",
    "\n",
    "epsilon, F1 = selectThreshold(yval, pval)\n",
    "print('Best epsilon found using cross-validation: %.4e' % epsilon)\n",
    "print('(This value should be about 8.99e-05)')\n",
    "print('Best F1 score on cross validation set: %f' % F1)\n",
    "print('(This value should be about 0.875000)')\n",
    "\n",
    "# Find the outliers in the training set and plot\n",
    "outliers = p < epsilon\n",
    "\n",
    "# Visualize the fit\n",
    "utils.visualizeFit(X, mu, sigma2)\n",
    "plt.xlabel('Latency (ms)')\n",
    "plt.ylabel('Throughput (mb/s)')\n",
    "plt.tight_layout()\n",
    "\n",
    "# Draw a red circle around those outliers\n",
    "plt.plot(X[outliers, 0], X[outliers, 1], 'ro', ms=10, mfc='None', mew=2)\n",
    "pass"
   ]
  },
  {
   "cell_type": "markdown",
   "metadata": {
    "pycharm": {
     "name": "#%% md\n"
    }
   },
   "source": [
    "### 1.4 High dimensional dataset\n",
    "The next cell will run the anomaly detection algorithm you implemented on a\n",
    "more realistic and much harder dataset. In this dataset, each example is\n",
    "described by 11 features, capturing many more properties of your compute servers,\n",
    "but only some features indicate whether a point is an outlier. The script will\n",
    "use your code to estimate the Gaussian parameters ($\\mu_i$ and $\\sigma_i^2$),\n",
    "evaluate the probabilities for both the training data `X` from which you\n",
    "estimated the Gaussian parameters, and do so for the the cross-validation set\n",
    "`Xval`. Finally, it will use `selectThreshold` to find the best threshold\n",
    "$\\varepsilon$. You should see a value epsilon of about 1.38e-18, and 117\n",
    "anomalies found."
   ]
  },
  {
   "cell_type": "code",
   "execution_count": 7,
   "metadata": {
    "pycharm": {
     "name": "#%%\n"
    }
   },
   "outputs": [
    {
     "name": "stdout",
     "output_type": "stream",
     "text": [
      "Best epsilon found using cross-validation: 1.3786e-18\n",
      "(This value should be about 1.38e-18)\n",
      "Best F1 score on cross validation set: 0.615385\n",
      "(This value should be about 0.615385)\n",
      "\n",
      "Outliers found: 117\n"
     ]
    }
   ],
   "source": [
    "# Load the second dataset.\n",
    "# You should now have the variables X, Xval, yval in your environment\n",
    "data = loadmat('ex8data2.mat')\n",
    "X, Xval, yval = data['X'], data['Xval'], data['yval'][:, 0]\n",
    "\n",
    "# Apply the same steps tp the larger dataset\n",
    "mu, sigma2 = estimateGaussian(X)\n",
    "\n",
    "# Training set\n",
    "p = utils.multivariateGaussian(X, mu, sigma2)\n",
    "\n",
    "# Cross-validation set\n",
    "pval = utils.multivariateGaussian(Xval, mu, sigma2)\n",
    "\n",
    "# Find the best threshold\n",
    "epsilon, F1 = selectThreshold(yval, pval)\n",
    "\n",
    "print('Best epsilon found using cross-validation: %.4e' % epsilon)\n",
    "print('(This value should be about 1.38e-18)')\n",
    "print('Best F1 score on cross validation set: %f' % F1)\n",
    "print('(This value should be about 0.615385)')\n",
    "print('\\nOutliers found: %d' % np.sum(p < epsilon))"
   ]
  },
  {
   "cell_type": "markdown",
   "metadata": {
    "pycharm": {
     "name": "#%% md\n"
    }
   },
   "source": [
    "## 2 Recommender Systems\n",
    "In this part of the exercise, you will implement the collaborative filtering\n",
    "learning algorithm and apply it to a dataset of movie ratings\n",
    "([MovieLens 100k Dataset](https://grouplens.org/datasets/movielens/) from\n",
    "GroupLens Research). This dataset consists of ratings on a scale of 1 to 5. The\n",
    "dataset has $n_u = 943$ users, and $n_m = 1682$ movies.\n",
    "\n",
    "In the next parts of this exercise, you will implement the function\n",
    "`cofiCostFunc` that computes the collaborative filtering objective function\n",
    "and gradient. After implementing the cost function and gradient, you will use\n",
    "`scipy.optimize.minimize` to learn the parameters for collaborative filtering.\n",
    "\n",
    "### 2.1 Movie ratings dataset\n",
    "The next cell will load the dataset `ex8_movies.mat`, providing the variables\n",
    "`Y` and `R`. The matrix `Y` (a $\\text{num_movies} \\times \\text{num_users}$\n",
    "matrix) stores the ratings $y^{(i,j)}$ (from 1 to 5). The matrix `R` is an\n",
    "binary-valued indicator matrix, where $R(i, j) = 1$ if user $j$ gave a rating\n",
    "to movie $i$, and $R(i, j) = 0$ otherwise. The objective of collaborative\n",
    "filtering is to predict movie ratings for the movies that users have not yet\n",
    "rated, that is, the entries with $R(i, j) = 0$. This will allow us to\n",
    "recommend the movies with the highest predicted ratings to the user.\n",
    "\n",
    "To help you understand the matrix `Y`, the following cell will compute the\n",
    "average movie rating for the first movie (Toy Story) and print its average\n",
    "rating."
   ]
  },
  {
   "cell_type": "code",
   "execution_count": 8,
   "metadata": {
    "pycharm": {
     "name": "#%%\n"
    }
   },
   "outputs": [
    {
     "name": "stdout",
     "output_type": "stream",
     "text": [
      "Average rating for movie 1 (Toy Story): 4.52 / 5\n"
     ]
    },
    {
     "data": {
      "text/plain": "<Figure size 576x576 with 1 Axes>",
      "image/png": "[encoded data removed]"
     },
     "metadata": {
      "needs_background": "light"
     },
     "output_type": "display_data"
    }
   ],
   "source": [
    "# Load data\n",
    "data = loadmat('ex8_movies.mat')\n",
    "Y, R = data['Y'], data['R']\n",
    "\n",
    "# Y is a 1682x943 matrix, contains ratings (1-5) of 1682 movies on 943 users\n",
    "# R is a 1682x943 matrix, where R(i,j)=1 if and only user j gave a rating to movie i\n",
    "\n",
    "# From the matrix, we cam compute the statistics like avarage rating\n",
    "print('Average rating for movie 1 (Toy Story): %.2f / 5' % np.mean(Y[0, R[0, :]]))\n",
    "\n",
    "# We can \"visualize\" the ratings matrix by plotting it with `imshow`\n",
    "plt.figure(figsize=(8, 8))\n",
    "plt.imshow(Y)\n",
    "plt.xlabel('Users')\n",
    "plt.ylabel('Movies')\n",
    "plt.grid(False)\n",
    "pass"
   ]
  },
  {
   "cell_type": "markdown",
   "metadata": {
    "pycharm": {
     "name": "#%% md\n"
    }
   },
   "source": [
    "Throughout this part of the exercise, you will also be working with the\n",
    "matrices, `X` and `Theta`:\n",
    "\n",
    "$$ \\text{X} =  \\begin{bmatrix} - \\left(x^{(1)}\\right)^T - \\\\ - \\left(x^{(2)}\\right)^T - \\\\ \\vdots \\\\ - \\left(x^{(n_m)}\\right)^T - \\\\ \\end{bmatrix}, \\quad \\text{Theta} =  \\begin{bmatrix} - \\left(\\theta^{(1)}\\right)^T - \\\\ - \\left(\\theta^{(2)}\\right)^T - \\\\ \\vdots \\\\ - \\left(\\theta^{(n_u)}\\right)^T - \\\\ \\end{bmatrix}.$$\n",
    "\n",
    "The $i^{\\text{th}}$ row of `X` corresponds to the feature vector $x^{(i)}$ for\n",
    "the $i^{\\text{th}}$ movie, and the $j^{\\text{th}}$ row of `Theta` corresponds\n",
    "to one parameter vector $\\theta^{(j)}$, for the $j^{\\text{th}}$ user. Both\n",
    "$x^{(i)}$ and $\\theta^{(j)}$ are $n$-dimensional vectors. For the purposes of\n",
    "this exercise, you will use $n = 100$, and therefore,\n",
    "$x^{(i)} \\in \\mathbb{R}^{100}$ and $\\theta^{(j)} \\in \\mathbb{R}^{100}$.\n",
    "Correspondingly, `X` is a $n_m \\times 100$ matrix and `Theta` is a\n",
    "$n_u \\times 100$ matrix.\n",
    "\n",
    "### 2.2 Collaborative filtering learning algorithm\n",
    "Now, you will start implementing the collaborative filtering learning\n",
    "algorithm. You will start by implementing the cost function (without\n",
    "regularization).\n",
    "\n",
    "The collaborative filtering algorithm in the setting of movie recommendations\n",
    "considers a set of $n$-dimensional parameter vectors\n",
    "$x^{(1)}, \\dots, x^{(n_m)}$ and $\\theta^{(1)} , \\dots, \\theta^{(n_u)}$, where\n",
    "the model predicts the rating for movie $i$ by user $j$ as\n",
    "$y^{(i,j)} = \\left( \\theta^{(j)} \\right)^T x^{(i)}$. Given a dataset that\n",
    "consists of a set of ratings produced by some users on some movies, you wish\n",
    "to learn the parameter vectors\n",
    "$x^{(1)}, \\dots, x^{(n_m)}, \\theta^{(1)}, \\dots, \\theta^{(n_u)}$ that produce\n",
    "the best fit (minimizes the squared error).\n",
    "\n",
    "You will complete the code in `cofiCostFunc` to compute the cost function and\n",
    "gradient for collaborative filtering. Note that the parameters to the\n",
    "function (i.e., the values that you are trying to learn) are `X` and `Theta`.\n",
    "In order to use an off-the-shelf minimizer such as `scipy's minimize` function,\n",
    "the cost function has been set up to unroll the parameters into a single vector\n",
    "called `params`. You had previously used the same vector unrolling method in\n",
    "the neural networks programming exercise.\n",
    "\n",
    "#### 2.2.1 Collaborative filtering cost function\n",
    "The collaborative filtering cost function (without regularization) is given by\n",
    "\n",
    "$$J(x^{(1)}, \\dots, x^{(n_m)}, \\theta^{(1)}, \\dots,\\theta^{(n_u)}) = \\frac{1}{2} \\sum_{(i,j):r(i,j)=1} \\left( \\left(\\theta^{(j)}\\right)^T x^{(i)} - y^{(i,j)} \\right)^2$$\n",
    "\n",
    "You should now modify the function `cofiCostFunc` to return this cost in the\n",
    "variable `J`. Note that you should be accumulating the cost for user $j$ and\n",
    "movie $i$ only if `R[i,j] = 1`."
   ]
  },
  {
   "cell_type": "code",
   "execution_count": 9,
   "metadata": {
    "pycharm": {
     "name": "#%%\n"
    }
   },
   "outputs": [],
   "source": [
    "def cofiCostFunc(params, Y, R, num_users, num_movies,\n",
    "                      num_features, lambda_=0.0):\n",
    "    \"\"\"\n",
    "    Collaborative filtering cost function.\n",
    "\n",
    "    Parameters\n",
    "    ----------\n",
    "    params : array_like\n",
    "        The parameters which will be optimized. This is a one\n",
    "        dimensional vector of shape (num_movies x num_users, 1). It is the\n",
    "        concatenation of the feature vectors X and parameters Theta.\n",
    "\n",
    "    Y : array_like\n",
    "        A matrix of shape (num_movies x num_users) of user ratings of movies.\n",
    "\n",
    "    R : array_like\n",
    "        A (num_movies x num_users) matrix, where R[i, j] = 1 if the\n",
    "        i-th movie was rated by the j-th user.\n",
    "\n",
    "    num_users : int\n",
    "        Total number of users.\n",
    "\n",
    "    num_movies : int\n",
    "        Total number of movies.\n",
    "\n",
    "    num_features : int\n",
    "        Number of features to learn.\n",
    "\n",
    "    lambda_ : float, optional\n",
    "        The regularization coefficient.\n",
    "\n",
    "    Returns\n",
    "    -------\n",
    "    J : float\n",
    "        The value of the cost function at the given params.\n",
    "\n",
    "    grad : array_like\n",
    "        The gradient vector of the cost function at the given params.\n",
    "        grad has a shape (num_movies x num_users, 1)\n",
    "    \"\"\"\n",
    "    # Unfold the U and W matrices from params\n",
    "    X = params[:num_movies * num_features].reshape(num_movies, num_features)\n",
    "    Theta = params[num_movies * num_features:].reshape(num_users, num_features)\n",
    "\n",
    "    J = 0\n",
    "    X_grad = np.zeros(X.shape)\n",
    "    Theta_grad = np.zeros(Theta.shape)\n",
    "\n",
    "    J = 0.5 * np.sum(np.square((np.dot(X, Theta.T) - Y) * R)) + \\\n",
    "        (lambda_ / 2) * np.sum(np.square(X)) + (lambda_ / 2) * np.sum(np.square(Theta))\n",
    "\n",
    "    for i in range(R.shape[0]):\n",
    "        idx = np.where(R[i, :] == 1)[0]\n",
    "        Theta_temp = Theta[idx, :]\n",
    "        Y_temp = Y[i, idx]\n",
    "        X_grad[i, :] = np.dot(np.dot(X[i, :], Theta_temp.T) - Y_temp, Theta_temp) + lambda_ * X[i, :]\n",
    "\n",
    "    for j in range(R.shape[1]):\n",
    "        idx = np.where(R[:, j] == 1)[0]\n",
    "        X_temp = X[idx, :]\n",
    "        Y_temp = Y[idx, j]\n",
    "        Theta_grad[j, :] = np.dot(np.dot(X_temp, Theta[j, :]) - Y_temp, X_temp) + lambda_ * Theta[j, :]\n",
    "\n",
    "    grad = np.concatenate([X_grad.ravel(), Theta_grad.ravel()])\n",
    "\n",
    "    return J, grad"
   ]
  },
  {
   "cell_type": "markdown",
   "metadata": {
    "pycharm": {
     "name": "#%% md\n"
    }
   },
   "source": [
    "After you have completed the function, the next cell will run your cost\n",
    "function. To help you debug your cost function, we have included set of weights\n",
    "that we trained on that. You should expect to see an output of 22.22."
   ]
  },
  {
   "cell_type": "code",
   "execution_count": 10,
   "metadata": {
    "pycharm": {
     "name": "#%%\n"
    }
   },
   "outputs": [
    {
     "name": "stdout",
     "output_type": "stream",
     "text": [
      "Cost at loaded parameters: 22.22\n"
     ]
    }
   ],
   "source": [
    "# Load pre-trained weights (X, Theta, num_users, num_movies, num_features)\n",
    "data = loadmat('ex8_movieParams.mat')\n",
    "X, Theta, num_users, num_movies, num_features = data['X'], data['Theta'], \\\n",
    "    int(data['num_users']), int(data['num_movies']), int(data['num_features'])\n",
    "\n",
    "# Reduce the data set size so that this runs faster\n",
    "num_users = 4\n",
    "num_movies = 5\n",
    "num_features = 3\n",
    "\n",
    "X = X[:num_movies, :num_features]\n",
    "Theta = Theta[:num_users, :num_features]\n",
    "Y = Y[:num_movies, 0:num_users]\n",
    "R = R[:num_movies, 0:num_users]\n",
    "\n",
    "# Evaluate cost function\n",
    "J, _ = cofiCostFunc(np.concatenate([X.ravel(), Theta.ravel()]), Y, R,\n",
    "                    num_users, num_movies, num_features)\n",
    "print('Cost at loaded parameters: %.2f' % J)"
   ]
  },
  {
   "cell_type": "markdown",
   "metadata": {
    "pycharm": {
     "name": "#%% md\n"
    }
   },
   "source": [
    "#### 2.2.2 Collaborative filtering gradient\n",
    "Now you should implement the gradient (without regularization). Specifically,\n",
    "you should complete the code in `cofiCostFunc` to return the variables `X_grad`\n",
    "and `Theta_grad`. Note that `X_grad` should be a matrix of the same size as `X`\n",
    "and similarly, `Theta_grad` is a matrix of the same size as `Theta`. The\n",
    "gradients of the cost function is given by:\n",
    "\n",
    "$$ \\frac{\\partial J}{\\partial x_k^{(i)}} = \\sum_{j:r(i,j)=1} \\left( \\left(\\theta^{(j)}\\right)^T x^{(i)} - y^{(i,j)} \\right) \\theta_k^{(j)} $$$$ \\frac{\\partial J}{\\partial \\theta_k^{(j)}} = \\sum_{i:r(i,j)=1} \\left( \\left(\\theta^{(j)}\\right)^T x^{(i)}- y^{(i,j)} \\right) x_k^{(j)} $$\n",
    "\n",
    "Note that the function returns the gradient for both sets of variables by\n",
    "unrolling them into a single vector. After you have completed the code to\n",
    "compute the gradients, the next cell run a gradient check (available in\n",
    "`utils.checkCostFunction`) to numerically check the implementation of your\n",
    "gradients (this is similar to the numerical check that you used in the neural\n",
    "networks exercise. If your implementation is correct, you should find that\n",
    "the analytical and numerical gradients match up closely.\n",
    "\n",
    "(Go back to the function `cofiCostFunc` to update it.)"
   ]
  },
  {
   "cell_type": "code",
   "execution_count": 11,
   "metadata": {
    "pycharm": {
     "name": "#%%\n"
    }
   },
   "outputs": [
    {
     "name": "stdout",
     "output_type": "stream",
     "text": [
      "[[-1.33161965e+00 -1.33161965e+00]\n",
      " [-2.92248530e+00 -2.92248530e+00]\n",
      " [-2.03789397e+00 -2.03789397e+00]\n",
      " [ 1.59748179e-01  1.59748179e-01]\n",
      " [-2.46883510e-03 -2.46883510e-03]\n",
      " [-7.20350864e-01 -7.20350864e-01]\n",
      " [ 2.07790853e+00  2.07790853e+00]\n",
      " [ 1.35069007e+00  1.35069007e+00]\n",
      " [ 2.16663909e+00  2.16663909e+00]\n",
      " [ 6.19320287e-01  6.19320287e-01]\n",
      " [-2.40178009e+00 -2.40178009e+00]\n",
      " [-3.96821617e+00 -3.96821617e+00]\n",
      " [-2.64695281e+00 -2.64695281e+00]\n",
      " [-3.59335638e+00 -3.59335638e+00]\n",
      " [-4.33043564e+00 -4.33043564e+00]\n",
      " [-1.80211701e+00 -1.80211701e+00]\n",
      " [-2.10986141e+00 -2.10986141e+00]\n",
      " [-3.30280302e+00 -3.30280302e+00]\n",
      " [ 1.57994188e+00  1.57994188e+00]\n",
      " [-1.35859458e+00 -1.35859458e+00]\n",
      " [-3.93287910e+00 -3.93287910e+00]\n",
      " [ 1.04769997e+00  1.04769997e+00]\n",
      " [-1.25301254e+00 -1.25301254e+00]\n",
      " [-2.09372324e+00 -2.09372324e+00]\n",
      " [-1.27509503e+00 -1.27509503e+00]\n",
      " [-3.79421459e+00 -3.79421459e+00]\n",
      " [-7.56830334e+00 -7.56830334e+00]]\n",
      "\n",
      "The above two columns you get should be very similar.(Left-Your Numerical Gradient; Right-Analytical Gradient)\n",
      "If your cost function implementation is correct, then the relative difference will be small (less than 1e-9).\n",
      "Relative difference: 8.67857e-13\n"
     ]
    }
   ],
   "source": [
    "# Check gradients by running checkCostFunction\n",
    "utils.checkCostFunction(cofiCostFunc)"
   ]
  },
  {
   "cell_type": "markdown",
   "metadata": {
    "pycharm": {
     "name": "#%% md\n"
    }
   },
   "source": [
    "#### 2.2.3 Regularized cost function\n",
    "The cost function for collaborative filtering with regularization is given by\n",
    "\n",
    "$$ J(x^{(1)}, \\dots, x^{(n_m)}, \\theta^{(1)}, \\dots, \\theta^{(n_u)}) = \\frac{1}{2} \\sum_{(i,j):r(i,j)=1} \\left( \\left( \\theta^{(j)} \\right)^T x^{(i)} - y^{(i,j)} \\right)^2 +  \\frac{\\lambda}{2} \\sum_{j=1}^{n_u} \\sum_{k=1}^{n} \\left( \\theta_k^{(j)} \\right)^2  +  \\frac{\\lambda}{2} \\sum_{i=1}^{n_m} \\sum_{k=1}^n \\left(x_k^{(i)} \\right)^2 $$\n",
    "\n",
    "You should now add regularization to your original computations of the cost\n",
    "function, $J$. After you are done, the next cell will run your regularized\n",
    "cost function, and you should expect to see a cost of about 31.34.\n",
    "\n",
    "(Go back to the function `cofiCostFunc` to update it.)"
   ]
  },
  {
   "cell_type": "code",
   "execution_count": 12,
   "metadata": {
    "pycharm": {
     "name": "#%%\n"
    }
   },
   "outputs": [
    {
     "name": "stdout",
     "output_type": "stream",
     "text": [
      "Cost at loaded parameters (lambda = 1.5): 31.344056\n",
      "             (This value should be about: 31.34)\n"
     ]
    }
   ],
   "source": [
    "# Evaluate cost function\n",
    "J, _ = cofiCostFunc(np.concatenate([X.ravel(), Theta.ravel()]), Y, R,\n",
    "                    num_users, num_movies, num_features, lambda_=1.5)\n",
    "print('Cost at loaded parameters (lambda = 1.5): %.6f' % J)\n",
    "print('             (This value should be about: 31.34)')"
   ]
  },
  {
   "cell_type": "markdown",
   "metadata": {
    "pycharm": {
     "name": "#%% md\n"
    }
   },
   "source": [
    "#### 2.2.4 Regularized gradient\n",
    "Now that you have implemented the regularized cost function, you should\n",
    "proceed to implement regularization for the gradient. You should add to your\n",
    "implementation in `cofiCostFunc` to return the regularized gradient by adding\n",
    "the contributions from the regularization terms. Note that the gradients for\n",
    "the regularized cost function is given by:\n",
    "\n",
    "$$ \\frac{\\partial J}{\\partial x_k^{(i)}} = \\sum_{j:r(i,j)=1} \\left( \\left(\\theta^{(j)}\\right)^T x^{(i)} - y^{(i,j)} \\right) \\theta_k^{(j)} + \\lambda x_k^{(i)} $$$$ \\frac{\\partial J}{\\partial \\theta_k^{(j)}} = \\sum_{i:r(i,j)=1} \\left( \\left(\\theta^{(j)}\\right)^T x^{(i)}- y^{(i,j)} \\right) x_k^{(j)} + \\lambda \\theta_k^{(j)} $$\n",
    "\n",
    "This means that you just need to add $\\lambda x^{(i)}$ to the `X_grad[i,:]`\n",
    "variable described earlier, and add $\\lambda \\theta^{(j)}$ to the\n",
    "`Theta_grad[j, :]` variable described earlier.\n",
    "\n",
    "(Go back to the function `cofiCostFunc` to update it.)\n",
    "\n",
    "After you have completed the code to compute the gradients, the following\n",
    "cell will run another gradient check (`utils.checkCostFunction`) to numerically\n",
    "check the implementation of your gradients."
   ]
  },
  {
   "cell_type": "code",
   "execution_count": 13,
   "metadata": {
    "pycharm": {
     "name": "#%%\n"
    }
   },
   "outputs": [
    {
     "name": "stdout",
     "output_type": "stream",
     "text": [
      "[[ -1.04271808  -1.04271808]\n",
      " [  1.72332796   1.72332796]\n",
      " [  1.2354923    1.2354923 ]\n",
      " [ -1.39102661  -1.39102661]\n",
      " [  3.28921543   3.28921543]\n",
      " [ -1.17115031  -1.17115031]\n",
      " [  5.0661312    5.0661312 ]\n",
      " [-15.00189716 -15.00189716]\n",
      " [ -0.06628407  -0.06628407]\n",
      " [  3.43929395   3.43929395]\n",
      " [-11.59810634 -11.59810634]\n",
      " [  2.76004869   2.76004869]\n",
      " [  4.19436262   4.19436262]\n",
      " [-11.83612963 -11.83612963]\n",
      " [  0.71819614   0.71819614]\n",
      " [ -2.0324774   -2.0324774 ]\n",
      " [ 16.3444819   16.3444819 ]\n",
      " [ -8.04137156  -8.04137156]\n",
      " [  0.08067695   0.08067695]\n",
      " [  1.49820117   1.49820117]\n",
      " [ -0.55847951  -0.55847951]\n",
      " [ -0.39318411  -0.39318411]\n",
      " [  5.536974     5.536974  ]\n",
      " [ -1.49628706  -1.49628706]\n",
      " [  1.58324897   1.58324897]\n",
      " [ -1.41566023  -1.41566023]\n",
      " [  0.5705733    0.5705733 ]]\n",
      "\n",
      "The above two columns you get should be very similar.(Left-Your Numerical Gradient; Right-Analytical Gradient)\n",
      "If your cost function implementation is correct, then the relative difference will be small (less than 1e-9).\n",
      "Relative difference: 2.19929e-12\n"
     ]
    }
   ],
   "source": [
    "# Check gradients by running checkCostFunction\n",
    "utils.checkCostFunction(cofiCostFunc, lambda_=1.5)"
   ]
  },
  {
   "cell_type": "markdown",
   "metadata": {
    "pycharm": {
     "name": "#%% md\n"
    }
   },
   "source": [
    "### 2.3 Learning movie recommendations\n",
    "After you have finished implementing the collaborative filtering cost function\n",
    "and gradient, you can now start training your algorithm to make movie\n",
    "recommendations for yourself. In the next cell, you can enter your own movie\n",
    "preferences, so that later when the algorithm runs, you can get your own movie\n",
    "recommendations! We have filled out some values according to our own preferences,\n",
    "but you should change this according to your own tastes. The list of all movies\n",
    "and their number in the dataset can be found listed in the file `movie_idx.txt`."
   ]
  },
  {
   "cell_type": "code",
   "execution_count": 14,
   "metadata": {
    "pycharm": {
     "name": "#%%\n"
    }
   },
   "outputs": [
    {
     "name": "stdout",
     "output_type": "stream",
     "text": [
      "[Ratings of new user: THISTLEDOWN]\n",
      "Movie Name (Year)                                        Rating\n",
      "-----------------                                        ------\n",
      "Toy Story (1995)                                         ⭐⭐⭐⭐\n",
      "Twelve Monkeys (1995)                                    ⭐⭐⭐\n",
      "Usual Suspects, The (1995)                               ⭐⭐⭐⭐⭐\n",
      "Outbreak (1995)                                          ⭐⭐⭐⭐\n",
      "Shawshank Redemption, The (1994)                         ⭐⭐⭐⭐⭐\n",
      "While You Were Sleeping (1995)                           ⭐⭐⭐\n",
      "Forrest Gump (1994)                                      ⭐⭐⭐⭐⭐\n",
      "Silence of the Lambs, The (1991)                         ⭐⭐\n",
      "Alien (1979)                                             ⭐⭐⭐⭐\n",
      "Die Hard 2 (1990)                                        ⭐⭐⭐⭐⭐\n",
      "Sphere (1998)                                            ⭐⭐⭐⭐⭐\n"
     ]
    }
   ],
   "source": [
    "# Before we will train the collaborative filtering model, we will first add ratings\n",
    "# that correspond to a new user that we just observed. This part of the code will\n",
    "# also allow you to put in your own ratings for the movies in our dataset!\n",
    "movieList = utils.loadMovieList()\n",
    "n_m = len(movieList)\n",
    "\n",
    "# Initialize my ratings\n",
    "my_ratings = np.zeros(n_m)\n",
    "\n",
    "# Check the file `movie_idx.txt` for id of each movie in our dataset\n",
    "# For example, Toy Story (1995) has ID 1, so to rate it \"4\",\n",
    "# you can set it according to you preference\n",
    "my_ratings[0] = 4\n",
    "\n",
    "# Or suppose did not enjoy Silence of the Lambs (1991), you can set\n",
    "my_ratings[97] = 2\n",
    "\n",
    "#  We have selected a few movies we liked / did not like and the ratings we\n",
    "# gave are as follows:\n",
    "my_ratings[6] = 3\n",
    "my_ratings[11]= 5\n",
    "my_ratings[53] = 4\n",
    "my_ratings[63] = 5\n",
    "my_ratings[65] = 3\n",
    "my_ratings[68] = 5\n",
    "my_ratings[182] = 4\n",
    "my_ratings[225] = 5\n",
    "my_ratings[354] = 5\n",
    "\n",
    "print('[Ratings of new user: THISTLEDOWN]')\n",
    "print('{:<55}  {}'.format('Movie Name (Year)', 'Rating'))\n",
    "print('{:<55}  {}'.format('-----------------', '------'))\n",
    "for i in range(len(my_ratings)):\n",
    "    if my_ratings[i] > 0:\n",
    "        print('{:<55}  {}'.format(movieList[i], str('⭐' * int(my_ratings[i]))))"
   ]
  },
  {
   "cell_type": "markdown",
   "metadata": {
    "pycharm": {
     "name": "#%% md\n"
    }
   },
   "source": [
    "#### 2.3.1 Recommendations\n",
    "After the additional ratings have been added to the dataset, the script will\n",
    "proceed to train the collaborative filtering model. This will learn the\n",
    "parameters `X` and `Theta`. To predict the rating of movie $i$ for user $j$,\n",
    "you need to compute $(\\theta^{(j)})^T x^{(i)} $. The next part of the script\n",
    "computes the ratings for all the movies and users and displays the movies that\n",
    "it recommends, according to ratings that were entered earlier in the script.\n",
    "Note that you might obtain a different set of the predictions due to different\n",
    "random initializations."
   ]
  },
  {
   "cell_type": "code",
   "execution_count": 15,
   "metadata": {
    "pycharm": {
     "name": "#%%\n"
    }
   },
   "outputs": [
    {
     "name": "stdout",
     "output_type": "stream",
     "text": [
      "Recommender system learning completed.\n"
     ]
    }
   ],
   "source": [
    "# Now, you will train collaborative filtering model on a movie rating dataset\n",
    "# of 1682 movies and 943 users\n",
    "\n",
    "# Load data\n",
    "data = loadmat('ex8_movies.mat')\n",
    "Y, R = data['Y'], data['R']\n",
    "\n",
    "# Y is a 1682x943 matrix, containing ratings (1~5) of 1682 movies by 943 users\n",
    "# R is a 1682x943 matrix, where R(i,j)=1 if and only user j gave a rating to movie i\n",
    "\n",
    "# Add our own ratings to the data matrix\n",
    "Y = np.hstack([my_ratings[:, None], Y])\n",
    "R = np.hstack([(my_ratings > 0)[:, None], R])\n",
    "\n",
    "# Normalize ratings\n",
    "Ynorm, Ymean = utils.normalizeRatings(Y, R)\n",
    "\n",
    "# Useful values\n",
    "num_movies, num_users = Y.shape\n",
    "num_features = 10\n",
    "\n",
    "# Set initial parameters (Theta, K)\n",
    "X = np.random.randn(num_movies, num_features)\n",
    "Theta = np.random.randn(num_users, num_features)\n",
    "\n",
    "initial_parameters = np.concatenate([X.ravel(), Theta.ravel()])\n",
    "\n",
    "# Set options for `scipy.optimize.minimize`\n",
    "options = {'maxiter': 200}\n",
    "\n",
    "# Set regularization\n",
    "lambda_ = 10\n",
    "res = optimize.minimize(lambda x: cofiCostFunc(x, Ynorm, R, num_users, num_movies,\n",
    "                                               num_features, lambda_),\n",
    "                        initial_parameters,\n",
    "                        method='TNC',\n",
    "                        jac=True,\n",
    "                        options=options)\n",
    "theta = res.x\n",
    "\n",
    "# Unfold the returned theta back into U and W\n",
    "X = theta[:num_movies * num_features].reshape(num_movies, num_features)\n",
    "Theta = theta[num_movies * num_features:].reshape(num_users, num_features)\n",
    "\n",
    "print('Recommender system learning completed.')"
   ]
  },
  {
   "cell_type": "markdown",
   "metadata": {
    "pycharm": {
     "name": "#%% md\n"
    }
   },
   "source": [
    "After training the model, you can now make recommendations by computing the predictions matrix."
   ]
  },
  {
   "cell_type": "code",
   "execution_count": 16,
   "metadata": {
    "pycharm": {
     "name": "#%%\n"
    }
   },
   "outputs": [
    {
     "name": "stdout",
     "output_type": "stream",
     "text": [
      "[Top recommendations for user: THISTLEDOWN]\n",
      "Movie Name (Year)                                        Predicting rating\n",
      "-----------------                                        -----------------\n",
      "Prefontaine (1997)                                       ⭐⭐⭐⭐⭐\n",
      "Entertaining Angels: The Dorothy Day Story (1996)        ⭐⭐⭐⭐⭐\n",
      "Santa with Muscles (1996)                                ⭐⭐⭐⭐⭐\n",
      "Marlene Dietrich: Shadow and Light (1996)                ⭐⭐⭐⭐⭐\n",
      "They Made Me a Criminal (1939)                           ⭐⭐⭐⭐⭐\n",
      "Great Day in Harlem, A (1994)                            ⭐⭐⭐⭐\n",
      "Someone Else's America (1995)                            ⭐⭐⭐⭐\n",
      "Star Kid (1997)                                          ⭐⭐⭐⭐\n",
      "Aiqing wansui (1994)                                     ⭐⭐⭐⭐\n",
      "Saint of Fort Washington, The (1993)                     ⭐⭐⭐⭐\n"
     ]
    }
   ],
   "source": [
    "p = np.dot(X, Theta.T)\n",
    "my_predictions = p[:, 0] + Ymean\n",
    "\n",
    "movieList = utils.loadMovieList()\n",
    "\n",
    "ix = np.argsort(my_predictions)[::-1]\n",
    "print('[Top recommendations for user: THISTLEDOWN]')\n",
    "print('{:<55}  {}'.format('Movie Name (Year)', 'Predicting rating'))\n",
    "print('{:<55}  {}'.format('-----------------', '-----------------'))\n",
    "for i in range(10):\n",
    "    j = ix[i]\n",
    "    print('{:<55}  {}'.format(movieList[j], str('⭐' * int(my_predictions[j]))))"
   ]
  }
 ],
 "metadata": {
  "kernelspec": {
   "display_name": "PyCharm (OnlineTest)",
   "language": "python",
   "name": "pycharm-36f06760"
  },
  "language_info": {
   "codemirror_mode": {
    "name": "ipython",
    "version": 3
   },
   "file_extension": ".py",
   "mimetype": "text/x-python",
   "name": "python",
   "nbconvert_exporter": "python",
   "pygments_lexer": "ipython3",
   "version": "3.7.1"
  }
 },
 "nbformat": 4,
 "nbformat_minor": 1
}