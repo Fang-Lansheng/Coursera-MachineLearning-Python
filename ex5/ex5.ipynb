{
 "cells": [
  {
   "cell_type": "markdown",
   "source": [
    "# Programming Exercise 5: Regularized Linear Regression and Bias v.s. Variance"
   ],
   "metadata": {
    "collapsed": false,
    "pycharm": {
     "name": "#%% md\n"
    }
   }
  },
  {
   "cell_type": "code",
   "execution_count": 1,
   "metadata": {
    "collapsed": true
   },
   "outputs": [],
   "source": [
    "# Scientific and vector computation for python\n",
    "import numpy as np\n",
    "\n",
    "# Plotting library\n",
    "import matplotlib.pyplot as plt\n",
    "\n",
    "# Optimization module in scipy\n",
    "from scipy import optimize\n",
    "\n",
    "# will be used to load MATLAB mat datafile format\n",
    "from scipy.io import loadmat\n",
    "\n",
    "# tells matplotlib to embed plots with the notebook\n",
    "%matplotlib inline"
   ]
  },
  {
   "cell_type": "markdown",
   "metadata": {
    "pycharm": {
     "name": "#%% md\n"
    }
   },
   "source": [
    "## 1 Regularized Linear Regression\n",
    "In the first half of the exercise, you will implement regularized linear regression\n",
    "to predict the amount of water flowing out of a dam using the change of water level\n",
    "in a reservoir. In the next half, you will go through some diagnostics of debugging\n",
    "learning algorithms and examine the effects of bias v.s. variance.\n",
    "### 1.1 Visualizing the data set\n",
    "We will begin by visualizing the dataset containing historical records on the change\n",
    "in the water level, $x$, and the amount of water flowing out of the dam, $y$.\n",
    "\n",
    "This dataset is divided into three parts:\n",
    "- A **training** set that your model will learn on: $\\text{X, y}$\n",
    "- A **cross validation** set for determining the regularization parameter:\n",
    "$\\text{Xval, yval}$\n",
    "- A **test** set for evaluating performance. These are \"unseen\" examples which\n",
    "your model did not see during training: $\\text{Xtest, ytest}$\n",
    "\n",
    "The cell below will plot the training data."
   ]
  },
  {
   "cell_type": "code",
   "execution_count": 2,
   "metadata": {
    "pycharm": {
     "name": "#%%\n"
    }
   },
   "outputs": [
    {
     "data": {
      "text/plain": "<Figure size 432x288 with 1 Axes>",
      "image/png": "[encoded data removed]"
     },
     "metadata": {
      "needs_background": "light"
     },
     "output_type": "display_data"
    }
   ],
   "source": [
    "# Load from ex5data1.mat\n",
    "data = loadmat('ex5data1.mat')\n",
    "\n",
    "X, y = data['X'], data['y'][:, 0]\n",
    "Xtest, ytest = data['Xtest'], data['ytest'][:, 0]\n",
    "Xval, yval = data['Xval'], data['yval'][:, 0]\n",
    "\n",
    "# m = Number of examples\n",
    "m = y.size\n",
    "\n",
    "# Plot training data\n",
    "plt.plot(X, y, 'rx', ms=10, mew=2)\n",
    "plt.xlabel(r'Change in water level ($x$)')\n",
    "plt.ylabel(r'Water flowing out of the dam ($y$)');"
   ]
  },
  {
   "cell_type": "markdown",
   "metadata": {},
   "source": [
    "In the following parts, you will implement linear regression and use that to fit\n",
    "a straight line to the data and plot learning curves. Following that, you will\n",
    "implement polynomial regression to find a better fit to the data.\n",
    "### 1.2 Regularized linear regression cost function\n",
    "Recall that regularized linear regression has the following cost function:\n",
    "\n",
    "\\begin{equation}\n",
    "J(\\theta) = \\frac{1}{2m}\\left( \\sum_{i=1}^m \\left(h_\\theta(x^{(i)}) - y^{(i)}\\right)^2 \\right)\n",
    "+ \\frac{\\lambda}{2m} \\left( \\sum_{j=1}^n \\theta_j^2 \\right)\n",
    "\\end{equation}\n",
    "\n",
    "where $\\lambda$ is a regularization parameter which controls the degree of regularization\n",
    "(thus, help preventing overfitting). The regularization term puts a penalty on the\n",
    "overall cost $J$. As the magnitudes of the model parameters $\\theta_j$ increase,\n",
    "the penalty increases as well. Note that you should not regularize the $\\theta_0$\n",
    "term.\n",
    "\n",
    "You should now complete the code of function `linearRegCost`, which calculates\n",
    "the regularized linear regression cost function. If possible, try to vectorize\n",
    "you code and avoid writing loops."
   ]
  },
  {
   "cell_type": "code",
   "execution_count": 3,
   "outputs": [],
   "source": [
    "def linearRegCost(X, y, theta, lam=0.0):\n",
    "    \"\"\"\n",
    "    Compute the cost and gradient for regularized linear regression with\n",
    "    multiple variables.\n",
    "\n",
    "    Parameters\n",
    "    ----------\n",
    "    X : array_like\n",
    "        The dataset. A matrix with shape (m, n+1) where m is the total number of\n",
    "        examples, and n is the number of features before adding the bias term.\n",
    "    y : array_like\n",
    "        The functions values at each data point. A vector of shape (m, ).\n",
    "    theta : array_like\n",
    "        The parameter for linear regression. A vector of shape (n+1, ).\n",
    "    lam : float, optional\n",
    "        The regularization parameter.\n",
    "    Returns\n",
    "    -------\n",
    "    cost : float\n",
    "        The computed cost function.\n",
    "    grad : array_like\n",
    "        The value of the cost function gradient w.r.t theta. A vector of\n",
    "        shape (n+1, ).\n",
    "    \"\"\"\n",
    "    m = y.size\n",
    "    h = np.dot(X, theta)\n",
    "\n",
    "    cost = np.sum(np.square(h - y)) / (2 * m) + \\\n",
    "           lam * np.sum(np.square(theta[1:])) / (2 * m)\n",
    "    grad = np.dot(h - y, X) / m\n",
    "    grad[1:] = grad[1:] + lam * theta[1:] / m\n",
    "\n",
    "    return cost, grad"
   ],
   "metadata": {
    "collapsed": false,
    "pycharm": {
     "name": "#%%\n"
    }
   }
  },
  {
   "cell_type": "markdown",
   "source": [
    "When you are finished, the next cell will run your cost function using\n",
    "$\\text{theta}$ initialized at $[1;\\ 1]$. You should expect to see an output of\n",
    "$303.993$."
   ],
   "metadata": {
    "collapsed": false,
    "pycharm": {
     "name": "#%% md\n"
    }
   }
  },
  {
   "cell_type": "code",
   "execution_count": 4,
   "outputs": [
    {
     "name": "stdout",
     "output_type": "stream",
     "text": [
      "Cost at theta = [1, 1]:   303.993192\n",
      "The value should be about 303.993192\n"
     ]
    }
   ],
   "source": [
    "theta = np.array([1, 1])\n",
    "cost, grad = linearRegCost(np.c_[np.ones([m, 1]), X], y, theta, lam=1)\n",
    "\n",
    "print('Cost at theta = [1, 1]:   %f' % cost)\n",
    "print('The value should be about 303.993192')"
   ],
   "metadata": {
    "collapsed": false,
    "pycharm": {
     "name": "#%%\n"
    }
   }
  },
  {
   "cell_type": "markdown",
   "source": [
    "### 1.3 Regularized linear regression gradient\n",
    "Correspondingly, the partial derivative of regularized linear regression's cost\n",
    "for $\\theta_j$ is defined as\n",
    "\n",
    "\\begin{aligned}\n",
    "  \\frac{\\partial J(\\theta)}{\\partial \\theta_0} &=\n",
    "    \\frac{1}{m} \\sum_{i=1}^m \\left( h_{\\theta}(x^{(i)}) - y^{(i)} \\right)\n",
    "    x_j^{(i)} & \\text{for } j = 0 \\\\\n",
    "  \\frac{\\partial J(\\theta)}{\\partial \\theta_j} &=\n",
    "    \\frac{1}{m} \\sum_{i=1}^m\\left( h_{\\theta}(x^{(i)}) - y^{(i)} \\right)\n",
    "    x_j^{(i)} + \\frac{\\lambda}{m}\\theta_j & \\text{for } j \\geq 0\n",
    "\\end{aligned}\n",
    "\n",
    "In the function `linearRegCost`, add code to calculate the gradient, returning\n",
    "it in the variable `grad`. You should expected to see a gradient of\n",
    "$[-15.30;\\, 598.250]$."
   ],
   "metadata": {
    "collapsed": false,
    "pycharm": {
     "name": "#%% md\n"
    }
   }
  },
  {
   "cell_type": "code",
   "execution_count": 5,
   "outputs": [
    {
     "name": "stdout",
     "output_type": "stream",
     "text": [
      "Gradient at theta = [1, 1]: [-15.303016, 598.250744]\n",
      "This value should be about: [-15.303016; 598.250744]\n"
     ]
    }
   ],
   "source": [
    "print('Gradient at theta = [1, 1]: [{:.6f}, {:.6f}]'.format(*grad))\n",
    "print('This value should be about: [-15.303016; 598.250744]')"
   ],
   "metadata": {
    "collapsed": false,
    "pycharm": {
     "name": "#%%\n"
    }
   }
  },
  {
   "cell_type": "markdown",
   "source": [
    "### 1.4 Fitting linear regression\n",
    "Once your cost function and gradient are working correctly, the next cell will\n",
    "run the code in function `trainLinearReg` to compute the optimal values of $\\theta$.\n",
    "This training function uses `fmincg` to optimize the cost function."
   ],
   "metadata": {
    "collapsed": false,
    "pycharm": {
     "name": "#%% md\n"
    }
   }
  },
  {
   "cell_type": "code",
   "execution_count": 6,
   "outputs": [],
   "source": [
    "def trainLinearReg(linearRegCost, X, y, lam=0.0, maxiter=200):\n",
    "    \"\"\"\n",
    "    Trains linear regression using scipy's optimize.minimize.\n",
    "\n",
    "    Parameters\n",
    "    ----------\n",
    "    linearRegCost : function\n",
    "        The function to compute the cost and gradient of regularized linear\n",
    "        regression.\n",
    "    X : array_like\n",
    "        The dataset with shape (m, n + 1). The bias term is assumed to be concatenated.\n",
    "    y : array_like\n",
    "        Function values at each datapoint. A vector of shape (m,).\n",
    "    lam : float, optional\n",
    "        The regularization parameter.\n",
    "    maxiter : int, optional\n",
    "        Maximum number of iteration for the optimization algorithm.\n",
    "\n",
    "    Returns\n",
    "    -------\n",
    "    theta : array_like\n",
    "        The parameters for linear regression. This is a vector of shape (n+1,).\n",
    "    \"\"\"\n",
    "    # Initialize Theta\n",
    "    initial_theta = np.zeros(X.shape[1])\n",
    "\n",
    "    # Create \"short hand\" for the cost function to be minimized\n",
    "    costFunction = lambda t: linearRegCost(X, y, t, lam)\n",
    "\n",
    "    # Now, costFunction is a function that takes in only one argument\n",
    "    options = {'maxiter': maxiter}\n",
    "\n",
    "    # Minimize using scipy\n",
    "    res = optimize.minimize(costFunction, initial_theta, jac=True, method='CG', options=options)\n",
    "\n",
    "    return res.x"
   ],
   "metadata": {
    "collapsed": false,
    "pycharm": {
     "name": "#%%\n"
    }
   }
  },
  {
   "cell_type": "markdown",
   "source": [
    "In this part, we set regularization parameter $\\lambda$ to zero. Because our\n",
    "current implementation of linear regression is trying to fir a 2-dimensional\n",
    "$\\theta$, regularization will not be incredibly helpful for a $\\theta$ of such\n",
    "low dimension. In the later parts of the exercise, you will be using polynomial\n",
    "regression with regularization.\n",
    "\n",
    "Finally, the code in the next cell should also plot the best fit line."
   ],
   "metadata": {
    "collapsed": false,
    "pycharm": {
     "name": "#%% md\n"
    }
   }
  },
  {
   "cell_type": "code",
   "execution_count": 7,
   "outputs": [
    {
     "data": {
      "text/plain": "<Figure size 432x288 with 1 Axes>",
      "image/png": "[encoded data removed]"
     },
     "metadata": {
      "needs_background": "light"
     },
     "output_type": "display_data"
    }
   ],
   "source": [
    "# Add a column of ones for the y-intercept\n",
    "X_aug = np.c_[np.ones([m, 1]), X]\n",
    "# Train linear regression with lambda = 0\n",
    "theta = trainLinearReg(linearRegCost, X_aug, y, lam=0)\n",
    "\n",
    "# Plot fit over the data\n",
    "plt.plot(X, y, 'rx', ms=10, mew=2)\n",
    "plt.xlabel(r'Change in water level ($x$)')\n",
    "plt.ylabel(r'Water flowing out of the dam ($y$)')\n",
    "plt.plot(X, np.dot(X_aug, theta), '--', lw=2);"
   ],
   "metadata": {
    "collapsed": false,
    "pycharm": {
     "name": "#%%\n"
    }
   }
  },
  {
   "cell_type": "markdown",
   "source": [
    "The best fit line tells us that the model is not a good fit to the data because\n",
    "the data has a non-linear pattern. While visualizing the best fit as shown is\n",
    "one possible way to debug your learning algorithm, it is not always easy to visualize\n",
    "the data and model. In the next section, you will implement a function to generate\n",
    "learning curves that can help you debug your learning algorithm even if it is\n",
    "not easy to visualize the data.\n",
    "\n",
    "## 2 Bias-variance\n",
    "An important concept in machine learning is the bias-variance tradeoff. Models\n",
    "with high bias are not complex enough for the data and tend to underfit, while\n",
    "models with high variance overfit to the training data.\n",
    "\n",
    "In the first part of the exercise, you will plot training and test errors on a\n",
    "learning curve to diagnose bias-variance problems.\n",
    "\n",
    "### 2.1 Learning curves\n",
    "You will now implement code to generate the learning curves that will be useful\n",
    "in debugging learning algorithms. Recall that a learning curve plots training\n",
    "and cross validation error as a function of training set size. Your job is to\n",
    "fill in the function `learningCurve` so that it returns a vector of errors for\n",
    "the training set and cross validation set.\n",
    "\n",
    "To plot the learning curve, we need a training and cross validation set error\n",
    "for different *training* set sizes. To obtain different training set sizes,\n",
    "you should use different subsets of the original training set $X$.\n",
    "Specifically, for a training set size of $i$, you should use the first $i$\n",
    "examples (i.e., $X(1:i,\\,:)$) and $y(1:i)$).\n",
    "\n",
    "You can use the `trainLinearReg` function to find the $\\theta$ parameters.\n",
    "Note that the $\\text{lambda}$ is passed as a parameter to the `learningCurve`\n",
    "function. After learning the $\\theta$ parameters, you should compute the **error**\n",
    "on the training and cross validation sets. Recall that the training error for\n",
    "a dataset is defined as\n",
    "\n",
    "\\begin{equation}\n",
    "J_{\\text{train}}(\\theta)=\\frac{1}{2m}\n",
    "\\left[ \\sum_{i=1}^m \\left( h_{\\theta}(x^{(i}) - y^{(i)}\\right)^2 \\right].\n",
    "\\end{equation}\n",
    "\n",
    "In particular, note that the training error does not include the regularization\n",
    "term. One way to compute the training error is to use your existing cost function\n",
    "and set $\\lambda$ to 0 *only* when using it to compute the training set error\n",
    "and cross validation error. When you are computing the training set error,\n",
    "make sure you compute it on the training subset (i.e., $X(1:n,\\, :)$ and\n",
    "$y(1:n)$) (instead of the entire training set). However, for the cross\n",
    "validation error, you should compute it over the *entire* cross validation\n",
    "set. You should store the computed errors in the vectors $\\text{error_train}$\n",
    "and $\\text{error_val}$."
   ],
   "metadata": {
    "collapsed": false,
    "pycharm": {
     "name": "#%% md\n"
    }
   }
  },
  {
   "cell_type": "code",
   "execution_count": 8,
   "outputs": [],
   "source": [
    "def learningCurve(X, y, Xval, yval, lam=0):\n",
    "    \"\"\"\n",
    "    Generates the train and cross validation set errors needed to plot a\n",
    "    learning curve.\n",
    "    In this function, you will compute the train and test errors for dataset\n",
    "    sizes from 1 up to m. In practice, when working with larger datasets,\n",
    "    you might want to do this in larger intervals.\n",
    "\n",
    "    Parameters\n",
    "    ----------\n",
    "    X : array_like\n",
    "        The training dataset. Matrix with shape (m, n + 1) where m is the\n",
    "        total number of examples, and n is the number of features before\n",
    "        adding the bias term.\n",
    "    y : array_like\n",
    "        The functions values at each training datapoint. A vector of shape\n",
    "        (m, ).\n",
    "    Xval : array_like\n",
    "        The validation dataset. Matrix with shape (m_val, n + 1).\n",
    "    yval : array_like\n",
    "        The functions values at each validation datapoint. A vector of shape\n",
    "        (m_val, ).\n",
    "    lam : float, optional\n",
    "        The regularization parameter.\n",
    "\n",
    "    Returns\n",
    "    -------\n",
    "    error_train : array_like\n",
    "        A vector of shape (m, ). error_train[i] contains the training error\n",
    "        for i examples.\n",
    "    error_val : array_like\n",
    "        A vector of shape (m, ). error_val[i] contains the validation error\n",
    "        for i training examples.\n",
    "\n",
    "    Instructions\n",
    "    ------------\n",
    "    Fill in this function to return training errors in error_train and the cross\n",
    "    validation errors in error_val. i.e., error_train[i] and error_val[i] should\n",
    "    give you the errors obtained after training on i examples.\n",
    "    \"\"\"\n",
    "    # Number of training examples\n",
    "    m = y.size\n",
    "\n",
    "    # You need to return these values correctly\n",
    "    error_train = np.zeros(m)\n",
    "    error_val   = np.zeros(m)\n",
    "\n",
    "    for i in range(1, m + 1):\n",
    "        theta_t = trainLinearReg(linearRegCost, X[:i], y[:i], lam=lam)\n",
    "        error_train[i - 1], _ = linearRegCost(X[:i], y[:i], theta_t, lam=0)\n",
    "        error_val[i - 1], _   = linearRegCost(Xval, yval, theta_t, lam=0)\n",
    "\n",
    "    return error_train, error_val"
   ],
   "metadata": {
    "collapsed": false,
    "pycharm": {
     "name": "#%%\n"
    }
   }
  },
  {
   "cell_type": "markdown",
   "source": [
    "When you are finished, the next cell will print the learning curves and produce\n",
    "a plot."
   ],
   "metadata": {
    "collapsed": false,
    "pycharm": {
     "name": "#%% md\n"
    }
   }
  },
  {
   "cell_type": "code",
   "execution_count": 9,
   "outputs": [
    {
     "name": "stdout",
     "output_type": "stream",
     "text": [
      "# Training Exampels\tTrain Error\tCross Validation Error\n",
      "\t1\t\t0.000000\t205.121096\n",
      "\t2\t\t0.000000\t110.300366\n",
      "\t3\t\t3.286595\t45.010232\n",
      "\t4\t\t2.842678\t48.368911\n",
      "\t5\t\t13.154049\t35.865141\n",
      "\t6\t\t19.443963\t33.829957\n",
      "\t7\t\t20.098522\t31.970987\n",
      "\t8\t\t18.172859\t30.862446\n",
      "\t9\t\t22.609405\t31.135998\n",
      "\t10\t\t23.261462\t28.936207\n",
      "\t11\t\t24.317250\t29.551432\n",
      "\t12\t\t22.373906\t29.433818\n"
     ]
    },
    {
     "data": {
      "text/plain": "<Figure size 432x288 with 1 Axes>",
      "image/png": "[encoded data removed]"
     },
     "metadata": {
      "needs_background": "light"
     },
     "output_type": "display_data"
    }
   ],
   "source": [
    "X_aug = np.c_[np.ones([m, 1]), X]\n",
    "Xval_aug = np.c_[np.ones([yval.size, 1]), Xval]\n",
    "error_train, error_val = learningCurve(X_aug, y, Xval_aug, yval, lam=0)\n",
    "\n",
    "plt.plot(np.arange(1, m + 1), error_train, np.arange(1, m + 1), error_val, lw=2)\n",
    "plt.title('Learning curve for linear regression')\n",
    "plt.legend(['Train', 'Cross Validation'])\n",
    "plt.xlabel('Number of training examples')\n",
    "plt.ylabel('Error')\n",
    "plt.axis([0, 13, 0, 150])\n",
    "\n",
    "print('# Training Exampels\\tTrain Error\\tCross Validation Error')\n",
    "for i in range(m):\n",
    "    print('\\t%d\\t\\t%f\\t%f' % (i + 1, error_train[i], error_val[i]))"
   ],
   "metadata": {
    "collapsed": false,
    "pycharm": {
     "name": "#%%\n"
    }
   }
  },
  {
   "cell_type": "markdown",
   "source": [
    "## 3 Polynomial regression\n",
    "The problem with our linear model was that it was too simple for the data and\n",
    "resulted in underfitting (high bias). In this part of the exercise, you will\n",
    "address this problem by adding more features.\n",
    "\n",
    "For use polynomial regression, our hypothesis has the form:\n",
    "\n",
    "\\begin{align}\n",
    "h_{\\theta}(x) &= \\theta_0 + \\theta_1 * (\\text{waterLevel}) + \\theta_2 *\n",
    "(\\text{waterLevel})^2 + \\cdots + \\theta_p * (\\text{waterLevel})^p \\\\\n",
    "&= \\theta_0 + \\theta_1 x_1 + \\theta_2 x_2 + \\cdots + \\theta_p x_p\n",
    "\\end{align}\n",
    "\n",
    "Notice that by defining $x_1 = \\text{waterLevel}$, $x_2 = (\\text{waterLevel})^2$,\n",
    "..., $x_p = (\\text{waterLevel})^p$, we obtain a linear regression model where\n",
    "the features are the various powers of the original value $\\text{waterLevel}$.\n",
    "\n",
    "Now, you will add more features using the higher powers of the existing feature\n",
    "$x$ in the dataset. Your task in this part is to complete the code in the function\n",
    "`polyFeatures` so that the function maps the original training set $X$ of size\n",
    "$m \\times 1$ into its higher powers. Specifically, when a training set $X$ of size\n",
    "$ m \\times 1$ is passed into the function, the function should return a $m \\times p$\n",
    "matrix $\\text{X_poly}$, where column 1 holds the original values of $X$, column\n",
    "2 holds the values of $X^2$, column 3 holds the values of $X^3$, and so on.\n",
    "Note that you don't have to account for the zero-eth power in this function."
   ],
   "metadata": {
    "collapsed": false,
    "pycharm": {
     "name": "#%% md\n"
    }
   }
  },
  {
   "cell_type": "code",
   "execution_count": 10,
   "outputs": [],
   "source": [
    "def polyFeatures(X, p):\n",
    "    \"\"\"\n",
    "    Maps X (1-D vector) into the p-th power\n",
    "\n",
    "    Parameters\n",
    "    ----------\n",
    "    X : array_like\n",
    "        A data vector of size m, where m is the number of examples.\n",
    "    p : int\n",
    "        The polynomial power to map the features.\n",
    "\n",
    "    Returns\n",
    "    -------\n",
    "    X_poly : array_like\n",
    "        A matrix of shape (m, p) where p is the polynomial power and m is\n",
    "        the number of examples. That is:\n",
    "        X_poly[i, :] = [X[i], X[i]**2, ..., X[i]**p]\n",
    "    \"\"\"\n",
    "    # You need to return the following variables correctly.\n",
    "    X_poly = np.zeros([X.shape[0], p])\n",
    "    for i in range(p):\n",
    "        X_poly[:, i] = X[:, 0] ** (i + 1)\n",
    "    return X_poly"
   ],
   "metadata": {
    "collapsed": false,
    "pycharm": {
     "name": "#%%\n"
    }
   }
  },
  {
   "cell_type": "markdown",
   "source": [
    "Now you have a function that will map features to a higher dimension. Before\n",
    "learning the parameters $\\theta$ for the polynomial regression, we first call\n",
    "`featureNormalize` and normalize the features of the training set, storing the\n",
    "$\\text{mu}$, $\\text{sigma}$ parameters separately."
   ],
   "metadata": {
    "collapsed": false,
    "pycharm": {
     "name": "#%% md\n"
    }
   }
  },
  {
   "cell_type": "code",
   "execution_count": 11,
   "outputs": [],
   "source": [
    "def featureNormalize(X):\n",
    "    \"\"\"\n",
    "    Normalizes the features in X returns a normalized version of X where the\n",
    "    mean value of each feature is 0 and the standard deviation is 1. This is\n",
    "    often a good pre-processing step to do when working with learning algorithms.\n",
    "\n",
    "    Parameters\n",
    "    ----------\n",
    "    X : array_like:\n",
    "        An dataset which is a (m, n) matrix, where m is the number of examples,\n",
    "        and n is the number of dimension for each example\n",
    "\n",
    "    Returns\n",
    "    -------\n",
    "    X_norm : array_like\n",
    "        The normalized input dataset.\n",
    "\n",
    "    mu : array_like\n",
    "        A vector of size n corresponding to the mean for each dimension across\n",
    "        all examples.\n",
    "\n",
    "    sigma : array_like\n",
    "        A vector of size n corresponding to the standard deviations for each\n",
    "        dimension across all examples.\n",
    "    \"\"\"\n",
    "    mu = np.mean(X, axis=0)\n",
    "    X_norm = X - mu\n",
    "\n",
    "    sigma = np.std(X_norm, axis=0, ddof=1)\n",
    "    X_norm /= sigma\n",
    "\n",
    "    return X_norm, mu, sigma"
   ],
   "metadata": {
    "collapsed": false,
    "pycharm": {
     "name": "#%%\n"
    }
   }
  },
  {
   "cell_type": "markdown",
   "source": [
    "The next cell will apply it to the training set, the test set, and the cross\n",
    "validation set."
   ],
   "metadata": {
    "collapsed": false,
    "pycharm": {
     "name": "#%% md\n"
    }
   }
  },
  {
   "cell_type": "code",
   "execution_count": 12,
   "outputs": [
    {
     "name": "stdout",
     "output_type": "stream",
     "text": [
      "Normalized Training Example 1:\n",
      "[ 1.         -0.36214078 -0.75508669  0.18222588 -0.70618991  0.30661792\n",
      " -0.59087767  0.3445158  -0.50848117]\n"
     ]
    }
   ],
   "source": [
    "p = 8\n",
    "\n",
    "# Map X onto Polynomial Features and Normalize\n",
    "X_poly = polyFeatures(X, p)\n",
    "X_poly, mu, sigma = featureNormalize(X_poly)    # Normalize\n",
    "X_poly = np.c_[np.ones([m, 1]), X_poly]         # Add ones\n",
    "\n",
    "# Map X_poly_test and normalize (using mu and sigma)\n",
    "X_poly_test = polyFeatures(Xtest, p)\n",
    "X_poly_test -= mu\n",
    "X_poly_test /= sigma\n",
    "X_poly_test = np.c_[np.ones([ytest.size, 1]), X_poly_test]\n",
    "\n",
    "# Map X_poly_val and normalize (using mu and sigma)\n",
    "X_poly_val = polyFeatures(Xval, p)\n",
    "X_poly_val -= mu\n",
    "X_poly_val /= sigma\n",
    "X_poly_val = np.c_[np.ones([yval.size, 1]), X_poly_val]\n",
    "\n",
    "print('Normalized Training Example 1:')\n",
    "print(X_poly[0, :])"
   ],
   "metadata": {
    "collapsed": false,
    "pycharm": {
     "name": "#%%\n"
    }
   }
  },
  {
   "cell_type": "markdown",
   "source": [
    "### 3.1 Learning Polynomial Regression\n",
    "After you have completed the function `polyFeatures`, we will proceed to train\n",
    "polynomial regression using your linear regression cost function.\n",
    "\n",
    "Keep in mind that even though we have polynomial terms in our feature vector,\n",
    "we are still solving a linear regression optimization problem. The polynomial\n",
    "terms have simply turned into features that we can use for linear regression.\n",
    "We are using the same cost function and gradient that you wrote for the earlier\n",
    "part of this exercise.\n",
    "\n",
    "For this part of the exercise, you will be using a polynomial of degree 8. It\n",
    "turns out that if we run the training directly on the projected data, will not\n",
    "work well as the features would be badly scaled (e.g., an example with $x = 40$\n",
    "will now have a feature $x_8 = 40^8 = 6.5\\times 10^{12}$. Therefore, you will\n",
    "need to use feature normalization."
   ],
   "metadata": {
    "collapsed": false,
    "pycharm": {
     "name": "#%% md\n"
    }
   }
  },
  {
   "cell_type": "markdown",
   "source": [
    "After learning the parameters $\\theta$, you should see two plots generated for\n",
    "polynomial regression with $\\lambda = 0$."
   ],
   "metadata": {
    "collapsed": false,
    "pycharm": {
     "name": "#%% md\n"
    }
   }
  },
  {
   "cell_type": "code",
   "execution_count": 13,
   "outputs": [],
   "source": [
    "def plotFit(polyFeatures, min_x, max_x, mu, sigma, theta, p):\n",
    "    \"\"\"\n",
    "    Plots a learned polynomial regression fit over an existing figure.\n",
    "    Also works with linear regression.\n",
    "\n",
    "    Parameters\n",
    "    ----------\n",
    "    polyFeatures : func\n",
    "        A function which generates polynomial features from a single feature.\n",
    "    min_x : float\n",
    "        The minimum value for the feature.\n",
    "    max_x : float\n",
    "        The maximum value for the feature.\n",
    "    mu : float\n",
    "        The mean feature value over the training dataset.\n",
    "    sigma : float\n",
    "        The feature standard deviation of the training dataset.\n",
    "    theta : array_like\n",
    "        The parameters for the trained polynomial linear regression.\n",
    "    p : int\n",
    "        The polynomial order.\n",
    "    \"\"\"\n",
    "    # We plot a range slightly bigger that the min and max values to get an\n",
    "    # idea of how the fit will vary outside the range of the data points\n",
    "    x = np.arange(min_x - 10, max_x + 20, 0.05).reshape(-1, 1)\n",
    "\n",
    "    # Map the X values\n",
    "    X_poly = polyFeatures(x, p)\n",
    "    X_poly -= mu\n",
    "    X_poly /= sigma\n",
    "\n",
    "    # Add ones\n",
    "    X_poly = np.c_[np.ones([x.shape[0], 1]), X_poly]\n",
    "\n",
    "    # Plot\n",
    "    plt.plot(x, np.dot(X_poly, theta), '--', lw=2)"
   ],
   "metadata": {
    "collapsed": false,
    "pycharm": {
     "name": "#%%\n"
    }
   }
  },
  {
   "cell_type": "code",
   "execution_count": 14,
   "outputs": [
    {
     "name": "stdout",
     "output_type": "stream",
     "text": [
      "Polynomial Regression ($\\lambda$ = 0.000000\n",
      "# Training Exampels\tTrain Error\tCross Validation Error\n",
      "\t1\t\t0.000000\t160.721900\n",
      "\t2\t\t0.000000\t160.121510\n",
      "\t3\t\t0.000000\t61.755005\n",
      "\t4\t\t0.000000\t61.928895\n",
      "\t5\t\t0.000000\t6.597864\n",
      "\t6\t\t0.000000\t10.639122\n",
      "\t7\t\t0.000003\t28.240663\n",
      "\t8\t\t0.005434\t17.855417\n",
      "\t9\t\t0.055845\t12.064460\n",
      "\t10\t\t0.038123\t25.581916\n",
      "\t11\t\t0.087819\t6.793333\n",
      "\t12\t\t0.040961\t22.081980\n"
     ]
    },
    {
     "data": {
      "text/plain": "<Figure size 432x288 with 1 Axes>",
      "image/png": "[encoded data removed]"
     },
     "metadata": {
      "needs_background": "light"
     },
     "output_type": "display_data"
    },
    {
     "data": {
      "text/plain": "<Figure size 432x288 with 1 Axes>",
      "image/png": "[encoded data removed]"
     },
     "metadata": {
      "needs_background": "light"
     },
     "output_type": "display_data"
    }
   ],
   "source": [
    "lam = 0\n",
    "theta = trainLinearReg(linearRegCost, X_poly, y, lam=lam, maxiter=143)\n",
    "\n",
    "# Plot training data and fit\n",
    "plt.plot(X, y, 'rx', ms=8, mew=2)\n",
    "\n",
    "plotFit(polyFeatures, np.min(X), np.max(X), mu, sigma, theta, p)\n",
    "plt.title(r'Polynomial Regression Fit ($\\lambda$ = %f)' % lam)\n",
    "plt.xlabel(r'Change in water level ($x$)')\n",
    "plt.ylabel(r'Water flowing out of the dam ($y$)')\n",
    "plt.axis([-80, 80, -20, 40])\n",
    "\n",
    "plt.figure()\n",
    "error_train, error_val = learningCurve(X_poly, y, X_poly_val, yval, lam)\n",
    "plt.plot(np.arange(1, 1 + m), error_train, np.arange(1, 1 + m), error_val)\n",
    "plt.title(r'Polynomial Regression Learning Curve ($\\lambda$ = %f)' % lam)\n",
    "plt.xlabel('Number of training examples')\n",
    "plt.ylabel('Error')\n",
    "plt.axis([0, 13, 0, 100])\n",
    "plt.legend(['Train', 'Cross Validation'])\n",
    "\n",
    "print(r'Polynomial Regression ($\\lambda$ = %f' % lam)\n",
    "print('# Training Exampels\\tTrain Error\\tCross Validation Error')\n",
    "for i in range(m):\n",
    "    print('\\t%d\\t\\t%f\\t%f' % (i + 1, error_train[i], error_val[i]))"
   ],
   "metadata": {
    "collapsed": false,
    "pycharm": {
     "name": "#%%\n"
    }
   }
  },
  {
   "cell_type": "markdown",
   "source": [
    "One way to combat the overfitting (high-variance) problem is to add\n",
    "regularization to the model. In the next section, you will get to try different\n",
    "$\\lambda$ parameters to see how regularization can lead to a better model.\n",
    "\n",
    "### 3.2 Adjusting the regularization parameter\n",
    "In this section, you will get to observe how the regularization parameter affects\n",
    "the bias-variance of regularized polynomial regression. You should now modify\n",
    "the $\\text{lambda}$ parameter and try $\\lambda = 1,100$. For each of these values,\n",
    "the script should generate a polynomial fit to the data and also a learning\n",
    "curve.\n",
    "\n",
    "For $\\lambda = 1$, you should see a polynomial fit that follows the data trend\n",
    "well and a learning curve showing that both the cross validation and training\n",
    "error converge to a relatively low value. This shows the $\\lambda = 1$ regularized\n",
    "polynomial regression model does not have the high-bias or high-variance problems.\n",
    "In effect, it achieves a good trade-off between bias and variance."
   ],
   "metadata": {
    "collapsed": false,
    "pycharm": {
     "name": "#%% md\n"
    }
   }
  },
  {
   "cell_type": "code",
   "execution_count": 15,
   "outputs": [
    {
     "data": {
      "text/plain": "<Figure size 432x288 with 1 Axes>",
      "image/png": "[encoded data removed]"
     },
     "metadata": {
      "needs_background": "light"
     },
     "output_type": "display_data"
    },
    {
     "data": {
      "text/plain": "<Figure size 432x288 with 1 Axes>",
      "image/png": "[encoded data removed]"
     },
     "metadata": {
      "needs_background": "light"
     },
     "output_type": "display_data"
    }
   ],
   "source": [
    "lam = 1\n",
    "theta = trainLinearReg(linearRegCost, X_poly, y, lam=lam, maxiter=100)\n",
    "\n",
    "# Plot training data and fit\n",
    "plt.plot(X, y, 'rx', ms=8, mew=2)\n",
    "\n",
    "plotFit(polyFeatures, np.min(X), np.max(X), mu, sigma, theta, p)\n",
    "plt.title(r'Polynomial Regression Fit ($\\lambda$ = %f)' % lam)\n",
    "plt.xlabel(r'Change in water level ($x$)')\n",
    "plt.ylabel(r'Water flowing out of the dam ($y$)')\n",
    "plt.axis([-80, 80, 0, 120])\n",
    "\n",
    "plt.figure()\n",
    "error_train, error_val = learningCurve(X_poly, y, X_poly_val, yval, lam)\n",
    "plt.plot(np.arange(1, 1 + m), error_train, np.arange(1, 1 + m), error_val)\n",
    "plt.title(r'Polynomial Regression Learning Curve ($\\lambda$ = %f)' % lam)\n",
    "plt.xlabel('Number of training examples')\n",
    "plt.ylabel('Error')\n",
    "plt.axis([0, 13, 0, 100])\n",
    "plt.legend(['Train', 'Cross Validation']);"
   ],
   "metadata": {
    "collapsed": false,
    "pycharm": {
     "name": "#%%\n"
    }
   }
  },
  {
   "cell_type": "markdown",
   "source": [
    "For $\\lambda = 100$, you should see a polynomial fit that does not follow the\n",
    "data well. In this case, there is too much regularization and the model is\n",
    "unable to fit the training data."
   ],
   "metadata": {
    "collapsed": false,
    "pycharm": {
     "name": "#%% md\n"
    }
   }
  },
  {
   "cell_type": "code",
   "execution_count": 16,
   "outputs": [
    {
     "data": {
      "text/plain": "<Figure size 432x288 with 1 Axes>",
      "image/png": "[encoded data removed]"
     },
     "metadata": {
      "needs_background": "light"
     },
     "output_type": "display_data"
    }
   ],
   "source": [
    "lam = 100\n",
    "theta = trainLinearReg(linearRegCost, X_poly, y, lam=lam, maxiter=200)\n",
    "\n",
    "# Plot training data and fit\n",
    "plt.plot(X, y, 'rx', ms=8, mew=2)\n",
    "\n",
    "plotFit(polyFeatures, np.min(X), np.max(X), mu, sigma, theta, p)\n",
    "plt.title(r'Polynomial Regression Fit ($\\lambda$ = %f)' % lam)\n",
    "plt.xlabel(r'Change in water level ($x$)')\n",
    "plt.ylabel(r'Water flowing out of the dam ($y$)')\n",
    "plt.axis([-80, 80, -10, 40]);"
   ],
   "metadata": {
    "collapsed": false,
    "pycharm": {
     "name": "#%%\n"
    }
   }
  },
  {
   "cell_type": "markdown",
   "source": [
    "### 3.3 Selecting $\\lambda$ using a cross validation\n",
    "From the previous parts of the exercise, you observed that the value of $\\lambda$\n",
    "can significantly affect the results of regularized polynomial regression on the\n",
    "training and cross validation set. In particular, a model without regularization\n",
    "($\\lambda = 0$) fits the training set well, but does not generalize. Conversely,\n",
    "a model with too much regularization ($\\lambda = 100$) does not fit the training\n",
    "set and testing set well. A good choice of $\\lambda$ (e.g. $\\lambda = 1$) can\n",
    "provide a good fit to the data.\n",
    "\n",
    "In this section, you will implement an automated method to select the $\\lambda$\n",
    "parameter. Concretely, you will use a cross validation set to evaluate how good\n",
    "each $\\lambda$ value is. After selecting the best $\\lambda$ value using the cross\n",
    "validation set, we can then evaluate the model on the test set to estimate\n",
    "how well the method will perform on actual unseen data.\n",
    "\n",
    "Your task is to complete the code in the function `validationCurve`.\n",
    "Specifically, you should use the `trainLinearReg` function to train the model\n",
    "using different values of $\\lambda$ and compute the training error and cross\n",
    "validation error. You should try $\\lambda$ in the following range:\n",
    "$\\{0, 0.001, 0.003, 0.01, 0.03, 0.1, 0.3, 1, 3, 10 \\}$."
   ],
   "metadata": {
    "collapsed": false,
    "pycharm": {
     "name": "#%% md\n"
    }
   }
  },
  {
   "cell_type": "code",
   "execution_count": 17,
   "outputs": [],
   "source": [
    "def validationCurve(X, y, Xval, yval):\n",
    "    \"\"\"\n",
    "    Generate the train and validation errors needed to plot a validation\n",
    "    curve that we can use to select lambda.\n",
    "\n",
    "    Parameters\n",
    "    ----------\n",
    "    X : array_like\n",
    "        The training dataset. Matrix with shape (m, n) where m is the\n",
    "        total number of training examples, and n is the number of features\n",
    "        including any polynomial features.\n",
    "    y : array_like\n",
    "        The functions values at each training datapoint. A vector of\n",
    "        shape (m, ).\n",
    "    Xval : array_like\n",
    "        The validation dataset. Matrix with shape (m_val, n) where m_val is the\n",
    "        total number of validation examples, and n is the number of features\n",
    "        including any polynomial features.\n",
    "    yval : array_like\n",
    "        The functions values at each validation datapoint. A vector of\n",
    "        shape (m_val, ).\n",
    "\n",
    "    Returns\n",
    "    -------\n",
    "    lambda_vec : list\n",
    "        The values of the regularization parameters which were used in\n",
    "        cross validation.\n",
    "    error_train : list\n",
    "        The training error computed at each value for the regularization\n",
    "        parameter.\n",
    "    error_val : list\n",
    "        The validation error computed at each value for the regularization\n",
    "        parameter.\n",
    "    \"\"\"\n",
    "    # Selected values of lambda\n",
    "    lambda_vec = [0, 0.001, 0.003, 0.01, 0.03, 0.1, 0.3, 1, 3, 10]\n",
    "\n",
    "    # You need to return these variables correctly\n",
    "    error_train = np.zeros(len(lambda_vec))\n",
    "    error_val = np.zeros(len(lambda_vec))\n",
    "\n",
    "    for i in range(len(lambda_vec)):\n",
    "        l = lambda_vec[i]\n",
    "        theta_t = trainLinearReg(linearRegCost, X, y, lam=l)\n",
    "        error_train[i], _ = linearRegCost(X, y, theta_t, lam=0)\n",
    "        error_val[i], _ = linearRegCost(Xval, yval, theta_t, lam=0)\n",
    "\n",
    "    return lambda_vec, error_train, error_val"
   ],
   "metadata": {
    "collapsed": false,
    "pycharm": {
     "name": "#%%\n"
    }
   }
  },
  {
   "cell_type": "markdown",
   "source": [
    "After you have completed the code, the next cell will run your function and\n",
    "plot a cross validation curve of error v.s. $\\lambda$ that allows you select\n",
    "which $\\lambda$ parameter to use."
   ],
   "metadata": {
    "collapsed": false,
    "pycharm": {
     "name": "#%% md\n"
    }
   }
  },
  {
   "cell_type": "code",
   "execution_count": 18,
   "outputs": [
    {
     "name": "stdout",
     "output_type": "stream",
     "text": [
      "lambda\t\tTrain Error\tValidation Error\n",
      "0.000000\t0.040961\t22.081980\n",
      "0.001000\t0.112761\t9.881604\n",
      "0.003000\t0.172953\t16.697436\n",
      "0.010000\t0.221503\t16.945323\n",
      "0.030000\t0.281866\t12.830957\n",
      "0.100000\t0.459308\t7.587252\n",
      "0.300000\t0.921774\t4.636807\n",
      "1.000000\t2.076182\t4.260623\n",
      "3.000000\t4.901348\t3.822899\n",
      "10.000000\t16.092210\t9.945504\n"
     ]
    },
    {
     "data": {
      "text/plain": "<Figure size 432x288 with 1 Axes>",
      "image/png": "[encoded data removed]"
     },
     "metadata": {
      "needs_background": "light"
     },
     "output_type": "display_data"
    }
   ],
   "source": [
    "''' Part 8: Validation for Selecting Lambda '''\n",
    "lambda_vec, error_train, error_val = validationCurve(X_poly, y, X_poly_val, yval)\n",
    "\n",
    "plt.plot(lambda_vec, error_train, '-o', lambda_vec, error_val, '-o', lw=2)\n",
    "plt.legend(['Train', 'Cross Validation'])\n",
    "plt.xlabel(r'$\\lambda$')\n",
    "plt.ylabel('Error')\n",
    "\n",
    "print('lambda\\t\\tTrain Error\\tValidation Error')\n",
    "for i in range(len(lambda_vec)):\n",
    "    print('%f\\t%f\\t%f' % (lambda_vec[i], error_train[i], error_val[i]))"
   ],
   "metadata": {
    "collapsed": false,
    "pycharm": {
     "name": "#%%\n"
    }
   }
  },
  {
   "cell_type": "markdown",
   "source": [
    "In this figure, we can see that the best value of $\\lambda$ is around 3. Due\n",
    "to randomness in the training and validation splits of the dataset, the cross\n",
    "validation error can sometimes be lower that the training error.\n",
    "\n",
    "### 3.4 Computing test set error\n",
    "In the previous part of the exercise, you implement code to compute the cross\n",
    "validation error for various values of the regularization parameter $\\lambda$.\n",
    "However, to get a better indication of the model's performance in the real\n",
    "world, it is important to evaluate the \"final\" model on a test set that was\n",
    "not used in any part of training (that is, it was neither used to select the\n",
    "$\\lambda$ parameters, nor to learn the model parameters $\\theta$). In this section,\n",
    "you should compute the test error using the best value of $\\lambda$ you found.\n",
    "In our cross validation, we obtained a test error of 3.8599 for $\\lambda = 3$."
   ],
   "metadata": {
    "collapsed": false,
    "pycharm": {
     "name": "#%% md\n"
    }
   }
  },
  {
   "cell_type": "code",
   "execution_count": 36,
   "outputs": [
    {
     "name": "stdout",
     "output_type": "stream",
     "text": [
      "When lambda = 3, the test error is 3.859888\n"
     ]
    }
   ],
   "source": [
    "theta = trainLinearReg(linearRegCost, X_poly, y, lam=3, maxiter=500)\n",
    "error_test, _ = linearRegCost(X_poly_test, ytest, theta, lam=0)\n",
    "print('When lambda = 3, the test error is %f' % error_test)"
   ],
   "metadata": {
    "collapsed": false,
    "pycharm": {
     "name": "#%%\n"
    }
   }
  }
 ],
 "metadata": {
  "kernelspec": {
   "display_name": "PyCharm (OnlineTest)",
   "language": "python",
   "name": "pycharm-36f06760"
  },
  "language_info": {
   "codemirror_mode": {
    "name": "ipython",
    "version": 3
   },
   "file_extension": ".py",
   "mimetype": "text/x-python",
   "name": "python",
   "nbconvert_exporter": "python",
   "pygments_lexer": "ipython3",
   "version": "3.7.1"
  }
 },
 "nbformat": 4,
 "nbformat_minor": 1
}
