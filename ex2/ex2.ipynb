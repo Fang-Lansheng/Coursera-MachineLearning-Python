{
 "cells": [
  {
   "cell_type": "markdown",
   "metadata": {
    "collapsed": true,
    "pycharm": {
     "name": "#%% md\n"
    }
   },
   "source": [
    "# Programming Exercise 2: Logistic Regression\n",
    "In this exercise, you will implement logistic regression and apply it to two\n",
    "different datasets."
   ]
  },
  {
   "cell_type": "code",
   "execution_count": 1,
   "metadata": {
    "pycharm": {
     "name": "#%%\n"
    }
   },
   "outputs": [],
   "source": [
    "# Scientific and vector computation for Python\n",
    "import numpy as np\n",
    "\n",
    "# Plotting library\n",
    "import matplotlib.pyplot as plt\n",
    "\n",
    "# Optimization module in scipy\n",
    "from scipy import optimize\n",
    "\n",
    "# tells matplotlib to embed plots within the notebook\n",
    "%matplotlib inline"
   ]
  },
  {
   "cell_type": "markdown",
   "metadata": {
    "pycharm": {
     "name": "#%% md\n"
    }
   },
   "source": [
    "## 1 Logistic Regression\n",
    "In this part of the exercise, you will build a logistic regression model to\n",
    "predict whether a student gets admitted into a university.\n",
    "\n",
    "Suppose that you are the administrator of a university department and you want\n",
    "to determine each applicant's chance of admission based on their results on two\n",
    "exams. You have historical data from previous applications that you can use as\n",
    "a training set for logistic regression. For each training example, you have the\n",
    "applicant's scores on two exams and the admissions decision.\n",
    "\n",
    "Your task is to build a classification model that estimates an applicant's\n",
    "probability of admission based on the scores from those two exams.\n",
    "\n",
    "The following cell will load the data and corresponding labels:"
   ]
  },
  {
   "cell_type": "code",
   "execution_count": 2,
   "metadata": {
    "pycharm": {
     "name": "#%%\n"
    }
   },
   "outputs": [],
   "source": [
    "# Load data. The first two columns contains the exam scores and the third\n",
    "# column contains the label\n",
    "data = np.loadtxt('ex2data1.txt', dtype=float, delimiter=',')\n",
    "X, y = data[:, 0:2], data[:, 2]"
   ]
  },
  {
   "cell_type": "markdown",
   "metadata": {
    "pycharm": {
     "name": "#%% md\n"
    }
   },
   "source": [
    "### 1.1 Visualizing the data\n",
    "Before starting to implement any learning algorithm, it is always good to\n",
    "visualize the data if possible. You will now complete the code in function\n",
    "`plotData` so that it displays a figure, in which the axes are the two\n",
    "exam scores, and the positive and negative examples are shown with different\n",
    "markers."
   ]
  },
  {
   "cell_type": "code",
   "execution_count": 3,
   "metadata": {
    "pycharm": {
     "name": "#%%\n"
    }
   },
   "outputs": [],
   "source": [
    "def plotData(X, y, label1='', label0='', xlabel='', ylabel=''):\n",
    "    \"\"\"\n",
    "    Plots the data points X and y into a new figure.\n",
    "\n",
    "    Parameters\n",
    "    ----------\n",
    "    X : array_like\n",
    "        An (m, 2) matrix representing the dataset.\n",
    "\n",
    "    y : array_like\n",
    "        Label values for the dataset. A vector of size (m, ).\n",
    "    \"\"\"\n",
    "    y0, y1 = y == 0, y == 1\n",
    "    # plt.scatter(X[y1, 0], X[y1, 1], marker='+', color='g', label=label1)\n",
    "    plt.plot(X[y1, 0], X[y1, 1], 'g+', ms=10, mew=2, label=label1)\n",
    "    plt.plot(X[y0, 0], X[y0, 1], 'rx', ms=8, mew=2, label=label0)\n",
    "    plt.xlabel(xlabel)\n",
    "    plt.ylabel(ylabel)\n",
    "    plt.legend(loc='upper right')"
   ]
  },
  {
   "cell_type": "markdown",
   "metadata": {
    "pycharm": {
     "name": "#%% md\n"
    }
   },
   "source": [
    "Now, we call the function to display the loaded data:"
   ]
  },
  {
   "cell_type": "code",
   "execution_count": 4,
   "metadata": {
    "pycharm": {
     "name": "#%%\n"
    }
   },
   "outputs": [
    {
     "data": {
      "text/plain": "<Figure size 432x288 with 1 Axes>",
      "image/png": "[encoded data removed]"
     },
     "metadata": {
      "needs_background": "light"
     },
     "output_type": "display_data"
    }
   ],
   "source": [
    "# plotting\n",
    "plotData(X, y, label1='Admitted', label0='Not admitted',\n",
    "         xlabel='Exam 1 Score', ylabel='Exam 2 Score')\n",
    "# plt.legend(['Admitted', 'Not admitted'], loc='upper right')\n",
    "# plt.xlabel('Exam 1 Score')\n",
    "# plt.ylabel('Exam 2 Score')"
   ]
  },
  {
   "cell_type": "markdown",
   "metadata": {
    "pycharm": {
     "name": "#%% md\n"
    }
   },
   "source": [
    "### 1.2 Implementation\n",
    "#### 1.2.1 Warmup exercise: sigmoid function\n",
    "Before you start with the actual cost function, recall that the logistic\n",
    "regression hypothesis is defined as:\n",
    "\n",
    "\\begin{equation}\n",
    "h_{\\theta}(x) = g(\\theta^Tx),\n",
    "\\end{equation}\n",
    "\n",
    "where function $g$ is the sigmoid function. The sigmoid function is defined as:\n",
    "\n",
    "\\begin{equation}\n",
    "g(z) = \\frac{1}{1 + e^{-z}}.\n",
    "\\end{equation}\n",
    "\n",
    "Your first step is to implement this function `sigmoid` so it can be called by\n",
    "the rest of your program. When you are finished, try testing a few values by\n",
    "calling `sigmoid(x)` in a new cell. For large positive values of $x$, the\n",
    "sigmoid should be close to 1, while for large negative values, the sigmoid\n",
    "should be close to 0. Evaluating `sigmoid(0)` should give you exactly 0.5.\n",
    "Your code should also work with vectors and matrices. **For a matrix, your\n",
    "function should perform the sigmoid function on every element.**"
   ]
  },
  {
   "cell_type": "code",
   "execution_count": 5,
   "metadata": {
    "pycharm": {
     "name": "#%%\n"
    }
   },
   "outputs": [],
   "source": [
    "def sigmoid(z):\n",
    "    \"\"\"\n",
    "    Compute sigmoid function given the input z.\n",
    "\n",
    "    Parameters\n",
    "    ----------\n",
    "    z : array_like\n",
    "        The input to the sigmoid function. This can be a 1-D vector\n",
    "        or a 2-D matrix.\n",
    "\n",
    "    Returns\n",
    "    -------\n",
    "    g : array_like\n",
    "        The computed sigmoid function. g has the same shape as z, since\n",
    "        the sigmoid is computed element-wise on z.\n",
    "    \"\"\"\n",
    "    g = 1 / (1 + np.exp(-z))\n",
    "\n",
    "    return g"
   ]
  },
  {
   "cell_type": "markdown",
   "metadata": {
    "pycharm": {
     "name": "#%% md\n"
    }
   },
   "source": [
    "The following cell evaluates the sigmoid function at $z = 0$. You should get a\n",
    "value of 0.5. You can also try different values for $z$ to experiment with the\n",
    "sigmoid function."
   ]
  },
  {
   "cell_type": "code",
   "execution_count": 6,
   "metadata": {
    "pycharm": {
     "name": "#%%\n"
    }
   },
   "outputs": [
    {
     "name": "stdout",
     "output_type": "stream",
     "text": [
      "g(0) = 0.50\n"
     ]
    }
   ],
   "source": [
    "# Test the sigmoid functino\n",
    "z = 0\n",
    "g = sigmoid(z)\n",
    "print('g(%d) = %.2f' %(z, g))"
   ]
  },
  {
   "cell_type": "markdown",
   "metadata": {
    "pycharm": {
     "name": "#%% md\n"
    }
   },
   "source": [
    "#### 1.2.2 Cost function and gradient\n",
    "Now you will implement the cost function and gradient for logistic regression.\n",
    "Before proceeding we add the intercept to $X$."
   ]
  },
  {
   "cell_type": "code",
   "execution_count": 7,
   "metadata": {
    "pycharm": {
     "name": "#%%\n"
    }
   },
   "outputs": [],
   "source": [
    "# Setup the data matrix appropriately, and add ones for the intercept term\n",
    "[m, n] = X.shape\n",
    "X = np.c_[np.ones([m, 1]), X]\n",
    "initial_theta = np.zeros(n + 1)"
   ]
  },
  {
   "cell_type": "markdown",
   "metadata": {
    "pycharm": {
     "name": "#%% md\n"
    }
   },
   "source": [
    "Now complete the code for function `costFunction` to return the cost and\n",
    "gradient. Recall that the cost function in logistic regression is\n",
    "\n",
    "\\begin{equation}\n",
    "J(\\theta) = \\frac{1}{m} \\sum_{i=1}^m\n",
    "\\left[\n",
    "-y^{(i)} \\log(h_{\\theta}(x^{(i)})) - (1 - y^{(i)})\\log(1 - h_{\\theta}(x^{(i)}))\n",
    "\\right],\n",
    "\\end{equation}\n",
    "\n",
    "and the gradient of the cost is a vector of the same length as $\\theta$ where\n",
    "the $j^{\\text{th}}$ element (for $j = 0, 1, \\dots, n$) is defined as follows:\n",
    "\n",
    "\\begin{equation}\n",
    "\\frac{\\partial J(\\theta)}{\\partial \\theta_j} = \\frac{1}{m} \\sum_{i=1}^m\n",
    "\\left( h_\\theta(x^{(i)}) - y^{(i)} \\right)x_j^{(i)}\n",
    "\\end{equation}\n",
    "\n",
    "Note that while this gradient looks identical to the linear regression gredient,\n",
    "the formula is actually different because linear and logistic regression have\n",
    "different definitions of $h_\\theta(x)$."
   ]
  },
  {
   "cell_type": "code",
   "execution_count": 8,
   "metadata": {
    "pycharm": {
     "name": "#%%\n"
    }
   },
   "outputs": [],
   "source": [
    "def costFunction(theta, X, y):\n",
    "    \"\"\"\n",
    "    Compute cost and gradient for logistic regression\n",
    "\n",
    "    Parameters\n",
    "    ----------\n",
    "    theta : array_like\n",
    "        The parameters for logistic regression. This a vector of shape (n+1, ).\n",
    "    X : array_like\n",
    "        The input dataset of shape (m, n+1) where m is the total number of data\n",
    "        points and n is the number of features. We assume the intercept has\n",
    "        already been added to the input.\n",
    "    y : arra_like\n",
    "        Labels for the input. This is a vector of shape (m, ).\n",
    "\n",
    "    Returns\n",
    "    -------\n",
    "    cost : float\n",
    "        The computed value for the cost function.\n",
    "    grad : array_like\n",
    "        A vector of shape (n+1, ) which is the gradient of the cost\n",
    "        function with respect to theta, at the current values of theta.\n",
    "    \"\"\"\n",
    "    m = y.size  # number of training examples\n",
    "    h = sigmoid(np.dot(X, theta))\n",
    "    cost = - np.sum(y * np.log(h) + (1 - y) * np.log(1 - h)) / m\n",
    "    grad = np.dot(h - y, X) / m\n",
    "    return cost, grad"
   ]
  },
  {
   "cell_type": "markdown",
   "metadata": {
    "pycharm": {
     "name": "#%% md\n"
    }
   },
   "source": [
    "Once you are done, the next cell will call your `costFunction` using the initial\n",
    "parameters of $\\theta$. You should see that the cost is about 0.693."
   ]
  },
  {
   "cell_type": "code",
   "execution_count": 9,
   "metadata": {
    "pycharm": {
     "name": "#%%\n"
    }
   },
   "outputs": [
    {
     "name": "stdout",
     "output_type": "stream",
     "text": [
      "\n",
      "Cost at initial theta (zeros): 0.693\n",
      "Expected cost (approx): 0.693\n",
      "Gradient at initial theta:   [-0.1000, -12.0092, -11.2628]\n",
      "Expected gradients (approx): [-0.1000, -12.0092, -11.2628]\n",
      "\n",
      "Cost at test theta: 0.218\n",
      "Expected cost (approx): 0.218\n",
      "Gradient at test theta:      [0.0429, 2.5662, 2.6468]\n",
      "Expected gradients (approx): [0.043 , 2.5662, 2.647 ]\n"
     ]
    }
   ],
   "source": [
    "# Compute and display initial cost and gradient\n",
    "cost, grad = costFunction(initial_theta, X, y)\n",
    "\n",
    "print('\\nCost at initial theta (zeros): {:.3f}'.format(cost))\n",
    "print('Expected cost (approx): 0.693')\n",
    "print('Gradient at initial theta:   [{:.4f}, {:.4f}, {:.4f}]'.format(*grad))\n",
    "print('Expected gradients (approx): [-0.1000, -12.0092, -11.2628]')\n",
    "\n",
    "# Compute and display cost and gradient with non-zero theta\n",
    "test_theta = np.array([-24, 0.2, 0.2])\n",
    "cost, grad = costFunction(test_theta, X, y)\n",
    "\n",
    "print('\\nCost at test theta: {:.3f}'.format(cost))\n",
    "print('Expected cost (approx): 0.218')\n",
    "print('Gradient at test theta:      [{:.4f}, {:.4f}, {:.4f}]'.format(*grad))\n",
    "print('Expected gradients (approx): [0.043 , 2.5662, 2.647 ]')"
   ]
  },
  {
   "cell_type": "markdown",
   "metadata": {
    "pycharm": {
     "name": "#%% md\n"
    }
   },
   "source": [
    "#### 1.2.3 Learning parameters using `scipy.optimize`\n",
    "In the previous assignment,  you found the optimal parameters of a linear\n",
    "regression model by implementing gradient descent. You wrote a cost function\n",
    "and calculated its gradient, then took a gradient desccent step accordingly.\n",
    "This time, instead of taking gradient descent steps, you will use the `scipy.\n",
    "optimize` module. `SciPy` is a numerical computing library for Python. It\n",
    "provides an optimization module for root finding and minimization. As of\n",
    "`sicpy 1.0`, the function `scipy.optimize.minimize` is the method to use for\n",
    "optimization problems (both constrained adn unconstrained).\n",
    "\n",
    "For logistic regression, you want to optimize the cost function $J(\\theta)$\n",
    "with parameters $\\theta$. Concretely, you are going to use `optimize.minimize`\n",
    "to find the best parameters for the logistic regression cost function, given\n",
    "a fixed dataset $X$ and $y$ values). You will pass to `optimize.minimize` the\n",
    "following inputs:\n",
    "\n",
    "- `costFunction`: A cost function that, when given the training set and a\n",
    "particular $\\theta$, computes the logistic regression cost and gradient with\n",
    "respect to $\\theta$ for the dataset $(X, y)$. It is important to note that we\n",
    "only pass the name of the function without the parameters. This indicates that\n",
    "we are only providing a reference to this function, and not evaluating the\n",
    "result from this function.\n",
    "- `initial_theta`: The initial values of the parameters we are trying to optimize.\n",
    "- `(X, y)`: These are additional arguments to the cost function.\n",
    "- `jac`: Indication if the cost function returns the Jacobian (gradient) along\n",
    "with cost value.\n",
    "- `method`: Optimization method/algorithm to use.\n",
    "- `options`: Additional options which might be specific to the specific method.\n",
    "In the following, we only tell the algorithm the maximum number of iterations\n",
    "before it terminates.\n",
    "\n",
    "If you have completed the `costFunction` correctly, `optimize.minimize` will\n",
    "converge on the right optimization parameters and return the final values of\n",
    "the cost and $\\theta$ in a class object. Notice that by using `optimize.\n",
    "minimize`, you did not have to write any loops yourself, or set a learning\n",
    "rate like you did for gradient descent. This is all done by `optimize.\n",
    "minimize`. You only needed to provide a function calculating the cost and the\n",
    "gradient.\n",
    "\n",
    "In the following, we already have code written to call `optimize.minimize` with\n",
    "the correct arguments."
   ]
  },
  {
   "cell_type": "code",
   "execution_count": 10,
   "outputs": [
    {
     "name": "stdout",
     "output_type": "stream",
     "text": [
      "Cost at theta found by `optimize.minimize`: 0.203\n",
      "Expected cost (approx): 0.203\n",
      "\n",
      "The optimized theta:     [-25.161, 0.206, 0.201]\n",
      "Expected theta (approx): [-25.161, 0.206, 0.201]\n"
     ]
    }
   ],
   "source": [
    "# Set options for optimize.minize\n",
    "options = {'maxiter': 400}\n",
    "\n",
    "res = optimize.minimize(costFunction, initial_theta, (X, y), jac=True,\n",
    "                        method='TNC', options=options)\n",
    "\n",
    "# The fun property of `OptimizeResult` object returns the value of costFunction\n",
    "# at optimized theta\n",
    "cost = res.fun\n",
    "\n",
    "# The optimized theta is in the x property\n",
    "theta = res.x\n",
    "\n",
    "# Print theta to screen\n",
    "print('Cost at theta found by `optimize.minimize`: {:.3f}'.format(cost))\n",
    "print('Expected cost (approx): 0.203\\n')\n",
    "\n",
    "print('The optimized theta:     [{:.3f}, {:.3f}, {:.3f}]'.format(*theta))\n",
    "print('Expected theta (approx): [-25.161, 0.206, 0.201]')"
   ],
   "metadata": {
    "collapsed": false,
    "pycharm": {
     "name": "#%%\n"
    }
   }
  },
  {
   "cell_type": "markdown",
   "source": [
    "Once `optimize.minimize` completes, we want to use the final value of $\\theta$\n",
    "to visualize the decision boundary on the training data."
   ],
   "metadata": {
    "collapsed": false,
    "pycharm": {
     "name": "#%% md\n"
    }
   }
  },
  {
   "cell_type": "code",
   "execution_count": 11,
   "outputs": [
    {
     "data": {
      "text/plain": "<Figure size 432x288 with 1 Axes>",
      "image/png": "[encoded data removed]"
     },
     "metadata": {
      "needs_background": "light"
     },
     "output_type": "display_data"
    }
   ],
   "source": [
    "plotData(X[:, 1:3], y, label1='Admitted', label0='Not admitted',\n",
    "         xlabel='Exam 1 Score', ylabel='Exam 2 Score')\n",
    "\n",
    "# Plotting the decision boundary\n",
    "x1 = np.arange(min(X[:, 1]) - 2, max(X[:, 1]) + 2)\n",
    "x2 = (-theta[0] - theta[1] * x1) / theta[2]\n",
    "plt.plot(x1, x2, label='Decision Boundary')\n",
    "handles, labels = plt.gca().get_legend_handles_labels()\n",
    "plt.legend([handles[i] for i in [1, 2, 0]], [labels[i] for i in [1, 2, 0]],\n",
    "           loc='upper right')\n",
    "plt.axis([min(X[:, 1]) - 2, max(X[:, 1]) + 2,\n",
    "          min(X[:, 2]) - 2, max(X[:, 2]) + 2]);"
   ],
   "metadata": {
    "collapsed": false,
    "pycharm": {
     "name": "#%%\n"
    }
   }
  },
  {
   "cell_type": "markdown",
   "source": [
    "#### 1.2.4 Evaluating logistic regression\n",
    "After learning the parameters, you can use the model to predict whether a\n",
    "particular student will be admitted. For a student with an Exam 1 score of 45\n",
    "and an Exam 2 score of 85, you should expect to see an admission probability\n",
    "of 0.776. Another way to evaluate the quality of the parameters we have found\n",
    "is to see how well the learned model predicts on our training set.\n",
    "\n",
    "In this part, your task is to complete the code in function `predict`. This\n",
    "function will produce \"1\" or \"0\" predictions given a dataset and a learned\n",
    "parameter vector $\\theta$."
   ],
   "metadata": {
    "collapsed": false,
    "pycharm": {
     "name": "#%% md\n"
    }
   }
  },
  {
   "cell_type": "code",
   "execution_count": 12,
   "outputs": [],
   "source": [
    "def predict(theta, X):\n",
    "    \"\"\"\n",
    "    Predict whether the label is 0 or 1 using learned logistic regression.\n",
    "    Computes the predictions for X using a threshold at 0.5\n",
    "    (i.e., if sigmoid(X*theta) >= 0.5, predict 1)\n",
    "\n",
    "    Parameters\n",
    "    ----------\n",
    "    theta : array_like\n",
    "        Parameters for logistic regression. A vector of shape (n+1, ).\n",
    "\n",
    "    X : array_like\n",
    "        The data to use for computing predictions. The rows is the number of\n",
    "        points to compute predictions, and columns is the number of features.\n",
    "\n",
    "    Returns\n",
    "    -------\n",
    "    p : array_like\n",
    "        Predictions and 0 or 1 for each row in X.\n",
    "    \"\"\"\n",
    "    p = np.round(sigmoid(np.dot(X, theta)))\n",
    "\n",
    "    return p"
   ],
   "metadata": {
    "collapsed": false,
    "pycharm": {
     "name": "#%%\n"
    }
   }
  },
  {
   "cell_type": "markdown",
   "source": [
    "After you have completed the code in `predict`, we proceed to report the\n",
    "training accuracy of your classifier by computing the percentage of examples\n",
    "it got correct."
   ],
   "metadata": {
    "collapsed": false,
    "pycharm": {
     "name": "#%% md\n"
    }
   }
  },
  {
   "cell_type": "code",
   "execution_count": 13,
   "outputs": [
    {
     "name": "stdout",
     "output_type": "stream",
     "text": [
      "For a student with scores 45 and 85,\n",
      "we predict an admission probability of 0.776\n",
      "Expected value: 0.775 ± 0.002\n",
      "\n",
      "Train accuracy: 89.00%\n",
      "Expected accuracy (approx): 89.00%\n"
     ]
    }
   ],
   "source": [
    "# Predict probability for a student with score 45 on Exam 1 and score 85 on Exam 2\n",
    "prob = sigmoid(np.dot([1, 45, 85], theta))\n",
    "print('For a student with scores 45 and 85,\\n'\n",
    "      'we predict an admission probability of {:.3f}'.format(prob))\n",
    "print('Expected value: 0.775 ± 0.002\\n')\n",
    "\n",
    "# Compute accuracy on our training set\n",
    "p = predict(theta, X)\n",
    "print('Train accuracy: {:.2f}%'.format(np.mean(p == y) * 100))\n",
    "print('Expected accuracy (approx): 89.00%')"
   ],
   "metadata": {
    "collapsed": false,
    "pycharm": {
     "name": "#%%\n"
    }
   }
  },
  {
   "cell_type": "markdown",
   "source": [
    "## 2 Regularized logistic regression\n",
    "In this part of the exercise, you will implement regularized logistic\n",
    "regression to predict whether microchips from a fabrication plant passes\n",
    "quality assurance (QA). During QA, each microchip goes through various tests\n",
    "to ensure it is functioning correctly. Suppose you are the product manager of\n",
    "the factory and you have the test results for some microchips on two different\n",
    "tests, you would like to determine whether the microchips should be accepted or\n",
    "rejected. To help you make the decision, you have a dataset of test results on\n",
    "past microchips, from which you can build a logistic regression model.\n",
    "\n",
    "First, we load the data from a CSV file:"
   ],
   "metadata": {
    "collapsed": false,
    "pycharm": {
     "name": "#%% md\n"
    }
   }
  },
  {
   "cell_type": "code",
   "execution_count": 14,
   "outputs": [],
   "source": [
    "# Load Data\n",
    "# The first two columns contains the exam scores and the third column contains the label\n",
    "data = np.loadtxt('ex2data2.txt', dtype=float, delimiter=',')\n",
    "X, y = data[:, 0:2], data[:, 2]"
   ],
   "metadata": {
    "collapsed": false,
    "pycharm": {
     "name": "#%%\n"
    }
   }
  },
  {
   "cell_type": "markdown",
   "source": [
    "### 2.1 Visualize the data\n",
    "Similar to the previous parts of the exercise, `plotData` is used to generate\n",
    "a figure."
   ],
   "metadata": {
    "collapsed": false,
    "pycharm": {
     "name": "#%% md\n"
    }
   }
  },
  {
   "cell_type": "code",
   "execution_count": 15,
   "outputs": [
    {
     "data": {
      "text/plain": "<Figure size 432x288 with 1 Axes>",
      "image/png": "[encoded data removed]"
     },
     "metadata": {
      "needs_background": "light"
     },
     "output_type": "display_data"
    }
   ],
   "source": [
    "plotData(X, y, label1='y = 1', label0='y = 0',\n",
    "         xlabel='Microchip Test 1', ylabel='Microchip Test 2')"
   ],
   "metadata": {
    "collapsed": false,
    "pycharm": {
     "name": "#%%\n"
    }
   }
  },
  {
   "cell_type": "markdown",
   "metadata": {
    "pycharm": {
     "name": "#%% md\n"
    }
   },
   "source": [
    "The above figure shows that our dataset cannot be separated into positive and\n",
    "negative examples by a straight-line through the plot. Therefore, a\n",
    "straight-forward application of logistic regression will not perform well on\n",
    "this dataset since logistic regression will only be able to find a linear\n",
    "decision boundary.\n",
    "\n",
    "### 2.2 Feature mapping\n",
    "One way to fit the data better is to create more features from each data point.\n",
    "In the provided function `matFeature`, we will map the features into all\n",
    "polynomial terms of $x_1$ and $x_2$ up to the sixth power.\n",
    "\n",
    "\\begin{equation}\\text{mapFeature}(x) =\n",
    "\\begin{bmatrix}1 & x_1 & x_2 & x_1^2 & x_1x_2 & x_2^2 & x_1^3 & \\cdots & x_1x_2^5 & x_2^6\\end{bmatrix}^T\n",
    "\\end{equation}\n",
    "\n",
    "As a result of this mapping, our vector of two features (the scores on two QA\n",
    "tests) has been transformed into a 28-dimensional vector. A logistic regression\n",
    "classifier trained on this higher-dimensional feature vector will have a more\n",
    "complex decision boundary and will appear nonlinear when drawn in our\n",
    "2-dimensional plot. While the feature mapping allows us to build a more\n",
    "expressive classifier, it also more susceptible to overfitting. In the next\n",
    "parts of the exercise, you will implement regularized logistic regression to\n",
    "fit the data and also see for yourself how regularization can help combat the\n",
    "overfitting problem."
   ]
  },
  {
   "cell_type": "code",
   "execution_count": 16,
   "outputs": [],
   "source": [
    "def mapFeature(X1, X2, degree=6):\n",
    "    \"\"\"\n",
    "    Maps the two input features to quadratic features used in the regularization\n",
    "    exercise. Returns a new feature array with more features, comprising of\n",
    "    X1, X2, X1.^2, X2.^2, X1*X2, X1*X2.^2, etc..\n",
    "\n",
    "    Parameters\n",
    "    ----------\n",
    "    X1 : array_like\n",
    "        A vector of shape (m, 1), containing one feature for all examples.\n",
    "    X2 : array_like\n",
    "        A vector of shape (m, 1), containing a second feature for all examples.\n",
    "        (Inputs X1, X2 must be the same size).\n",
    "    degree: int, optional\n",
    "        The polynomial degree.\n",
    "\n",
    "    Returns\n",
    "    -------\n",
    "    X : array_like\n",
    "        A matrix of of m rows, and columns depend on the degree of polynomial.\n",
    "    \"\"\"\n",
    "    X = np.ones(X1.shape[0])\n",
    "    for i in np.arange(1, degree + 1, 1):\n",
    "        for j in range(i + 1):\n",
    "            X = np.c_[X, X1**(i - j) * X2**j]\n",
    "    return X\n",
    "\n",
    "X_map = mapFeature(X[:, 0], X[:, 1])"
   ],
   "metadata": {
    "collapsed": false,
    "pycharm": {
     "name": "#%%\n"
    }
   }
  },
  {
   "cell_type": "markdown",
   "source": [
    "### 2.3 Cost function and gradient\n",
    "Now you will implement code to compute the cost function and gradient for\n",
    "regularized logistic regression. Complete the code for the function\n",
    "`costFunctionReg` to return the cost and gradient.\n",
    "\n",
    "Recall that the regularized cost function in logistic regression is\n",
    "\n",
    "\\begin{equation}\n",
    "J(\\theta) = \\frac{1}{m}\\sum_{i=1}^m\n",
    "\\left[ -y^{(i)} \\log\\left(h_{\\theta}(x^{(i)})\\right)\n",
    " - (1 - y^{(i)})\\log\\left(1 - h_{\\theta}(x^{(i)})\\right) \\right]\n",
    "+ \\frac{\\lambda}{2m} \\sum_{j=1}^n \\theta^2_j .\n",
    "\\end{equation}\n",
    "\n",
    "Note that you should not regularize the parameters $\\theta_0$. The gradient of\n",
    "the cost function is a vector where the $j^{\\text{th}}$ element is defined as\n",
    "follows:\n",
    "\n",
    "\\begin{aligned}\n",
    "&\\frac{\\partial J(\\theta)}{\\partial \\theta_0} = \\frac{1}{m} \\sum_{i=1}^m\n",
    "\\left( h_\\theta(x^{(i)}) - y^{(i)} \\right)x_j^{(i)} & \\text{for $j = 1$} \\\\\n",
    "&\\frac{\\partial J(\\theta)}{\\partial \\theta_j} = \\frac{1}{m} \\sum_{i=1}^m\n",
    "\\left( h_\\theta(x^{(i)}) - y^{(i)} \\right)x_j^{(i)} +\n",
    "\\frac{\\lambda}{m} \\theta_j & \\text{for $j \\geq 1$}\n",
    "\\end{aligned}"
   ],
   "metadata": {
    "collapsed": false,
    "pycharm": {
     "name": "#%% md\n"
    }
   }
  },
  {
   "cell_type": "code",
   "execution_count": 17,
   "outputs": [],
   "source": [
    "def costFunctionReg(theta, X, y, lam):\n",
    "    \"\"\"\n",
    "    Compute cost and gradient for logistic regression with regularization.\n",
    "\n",
    "    Parameters\n",
    "    ----------\n",
    "    theta : array_like\n",
    "        Logistic regression parameters. A vector with shape (n, ). n is\n",
    "        the number of features including any intercept. If we have mapped\n",
    "        our initial features into polynomial features, then n is the total\n",
    "        number of polynomial features.\n",
    "\n",
    "    X : array_like\n",
    "        The data set with shape (m, n). m is the number of examples, and\n",
    "        n is the number of features (after feature mapping).\n",
    "\n",
    "    y : array_like\n",
    "        The data labels. A vector with shape (m, ).\n",
    "\n",
    "    lam : float\n",
    "        The regularization parameter.\n",
    "\n",
    "    Returns\n",
    "    -------\n",
    "    cost : float\n",
    "        The computed value for the regularized cost function.\n",
    "\n",
    "    grad : array_like\n",
    "        A vector of shape (n, ) which is the gradient of the cost\n",
    "        function with respect to theta, at the current values of theta.\n",
    "    \"\"\"\n",
    "    m = y.size  # number of training examples\n",
    "    h = sigmoid(np.dot(X, theta))\n",
    "\n",
    "    cost1 = - np.sum(y * np.log(h) + (1 - y) * np.log(1 - h)) / m\n",
    "    cost2 = 0.5 * lam * np.dot(theta[1:].T, theta[1:]) / m  # Don't penalize theta_0\n",
    "    cost = cost1 + cost2\n",
    "\n",
    "    grad = np.dot(h - y, X) / m\n",
    "    grad[1:] += (lam * theta / m)[1:]\n",
    "\n",
    "    return cost, grad"
   ],
   "metadata": {
    "collapsed": false,
    "pycharm": {
     "name": "#%%\n"
    }
   }
  },
  {
   "cell_type": "markdown",
   "source": [
    "Once you are done with the `costFunctionReg`, we call it below using the initial\n",
    "value of $\\theta$ (initialized to all zeros), and also another test case where\n",
    "$\\theta$ is all ones."
   ],
   "metadata": {
    "collapsed": false,
    "pycharm": {
     "name": "#%% md\n"
    }
   }
  },
  {
   "cell_type": "code",
   "execution_count": 18,
   "outputs": [
    {
     "name": "stdout",
     "output_type": "stream",
     "text": [
      "Cost at initial theta (zeros): 0.693\n",
      "Expected cost (approx)       : 0.693\n",
      "\n",
      "Gradient at initial theta (zeros) - first five values only:\n",
      "[ 0.0085, 0.0188, 0.0001, 0.0503, 0.0115 ]\n",
      "Expected gradients (approx) - first five values only:\n",
      "[ 0.0085, 0.0188, 0.0001, 0.0503, 0.0115 ]\n",
      "\n",
      "Cost at test theta     : 3.16\n",
      "Expected cost (approx) : 3.16\n",
      "\n",
      "Gradient at test theta - first five values only:\n",
      "[ 0.3460, 0.1614, 0.1948, 0.2269, 0.0922 ]\n",
      "Expected gradients (approx) - first five values only:\n",
      "[ 0.3460, 0.1614, 0.1948, 0.2269, 0.0922 ]\n",
      "\n"
     ]
    }
   ],
   "source": [
    "# Initialize fitting parameters\n",
    "initial_theta = np.zeros(X_map.shape[1])\n",
    "\n",
    "# Set regularization parameter lambda to 1\n",
    "lam = 1\n",
    "\n",
    "# Compute and display initial cost and gradient for regularized logistic regression\n",
    "cost, grad = costFunctionReg(initial_theta, X_map, y, lam)\n",
    "\n",
    "print('Cost at initial theta (zeros): {:.3f}'.format(cost))\n",
    "print('Expected cost (approx)       : 0.693\\n')\n",
    "print('Gradient at initial theta (zeros) - first five values only:')\n",
    "print('[ {:.4f}, {:.4f}, {:.4f}, {:.4f}, {:.4f} ]'.format(*grad[:5]))\n",
    "print('Expected gradients (approx) - first five values only:')\n",
    "print('[ 0.0085, 0.0188, 0.0001, 0.0503, 0.0115 ]\\n')\n",
    "\n",
    "# Compute and display cost and gradient with all-ones theta and lambda = 10\n",
    "test_theta = np.ones(X_map.shape[1])\n",
    "cost, grad = costFunctionReg(test_theta, X_map, y, lam=10)\n",
    "\n",
    "print('Cost at test theta     : {:.2f}'.format(cost))\n",
    "print('Expected cost (approx) : 3.16\\n')\n",
    "print('Gradient at test theta - first five values only:')\n",
    "print('[ {:.4f}, {:.4f}, {:.4f}, {:.4f}, {:.4f} ]'.format(*grad[:5]))\n",
    "print('Expected gradients (approx) - first five values only:')\n",
    "print('[ 0.3460, 0.1614, 0.1948, 0.2269, 0.0922 ]\\n')"
   ],
   "metadata": {
    "collapsed": false,
    "pycharm": {
     "name": "#%%\n"
    }
   }
  },
  {
   "cell_type": "markdown",
   "source": [
    "#### 2.3.1 Learning parameters using `scipy.optimize.minimize`\n",
    "Similar to the previous parts, you will use `optimize.minimize` to learn the\n",
    "optimal parameters $\\theta$. If you have completed the cost and gradient for\n",
    "regularized logistic regression (`costFunctionReg`) correctly, you should be\n",
    "able to step through the next part to learn the parameters $\\theta$ using\n",
    "`optimize.minimize`.\n",
    "\n",
    "### 2.4 Plotting the decision boundary\n",
    "You should plot the non-linear decision boundary that separates the positive\n",
    "and negative examples by computing the classifier's predictions on an evenly\n",
    "space grid and then draw a contour plot where the predictions change from\n",
    "\"y = 0\" to \"y = 1\".\n",
    "\n",
    "### 2.5 Optional exercise\n",
    "In this part of the exercise, you will get to try out different regularization\n",
    "parameters for the dataset to understand how regularization prevents\n",
    "overfitting. Notice the changes in the decision boundary as you vary $\\lambda$.\n",
    "With a small $\\lambda$, you should find that the classifier gets almost every\n",
    "training example correct, but draws a very complicated boundary, thus\n",
    "overfitting the data."
   ],
   "metadata": {
    "collapsed": false,
    "pycharm": {
     "name": "#%% md\n"
    }
   }
  },
  {
   "cell_type": "code",
   "execution_count": 19,
   "outputs": [
    {
     "name": "stdout",
     "output_type": "stream",
     "text": [
      "Train accuracy: 83.1%\n",
      "Expected accuracy (with lambda = 1.0): 83.1%\n"
     ]
    },
    {
     "data": {
      "text/plain": "<Figure size 432x288 with 1 Axes>",
      "image/png": "[encoded data removed]"
     },
     "metadata": {
      "needs_background": "light"
     },
     "output_type": "display_data"
    }
   ],
   "source": [
    "# Set options for optimize.minimize\n",
    "options = {'maxiter': 100}\n",
    "\n",
    "res = optimize.minimize(costFunctionReg, initial_theta, # initial_theta: zeros\n",
    "                        (X_map, y, lam),                # lam = 1\n",
    "                        jac=True, method='TNC', options=options)\n",
    "\n",
    "# the fun property of OptimizeResult object returns the value of\n",
    "# costFunctionReg at optimized theta\n",
    "cost = res.fun\n",
    "\n",
    "# the optimized theta is in the x property of the result\n",
    "theta = res.x\n",
    "\n",
    "plotData(X, y, label1='y = 1', label0='y = 0',\n",
    "         xlabel='Microchip Test 1', ylabel='Microchip Test 2')\n",
    "\n",
    "u = np.linspace(min(X_map[:, 1]) - 0.1, max(X_map[:, 1]) + 0.1, 50)\n",
    "v = np.linspace(min(X_map[:, 2]) - 0.1, max(X_map[:, 2]) + 0.1, 50)\n",
    "z = np.zeros([u.size, v.size])\n",
    "\n",
    "# evaluate z = theta * x over the grid\n",
    "for i, ui in enumerate(u):\n",
    "    for j, vj in enumerate(v):\n",
    "        z[i, j] = np.dot(mapFeature(np.array([ui]), np.array([vj])), theta)\n",
    "\n",
    "plt.contour(u, v, z.T, levels=[0], colors='c')\n",
    "plt.contourf(u, v, z.T, levels=[np.min(z), 0, np.max(z)],\n",
    "             cmap='gray', alpha=0.1)\n",
    "plt.title(r'Training data with decision boundary ($\\lambda$ = %.2f)' % lam)\n",
    "\n",
    "# Compute accuracy on training set\n",
    "p = predict(theta, X_map)\n",
    "print('Train accuracy: {:.1f}%'.format(np.mean(p == y) * 100))\n",
    "print('Expected accuracy (with lambda = {:.1f}): 83.1%'.format(lam))\n"
   ],
   "metadata": {
    "collapsed": false,
    "pycharm": {
     "name": "#%%\n"
    }
   }
  }
 ],
 "metadata": {
  "kernelspec": {
   "name": "pycharm-36f06760",
   "language": "python",
   "display_name": "PyCharm (OnlineTest)"
  },
  "language_info": {
   "codemirror_mode": {
    "name": "ipython",
    "version": 3
   },
   "file_extension": ".py",
   "mimetype": "text/x-python",
   "name": "python",
   "nbconvert_exporter": "python",
   "pygments_lexer": "ipython3",
   "version": "3.7.1"
  }
 },
 "nbformat": 4,
 "nbformat_minor": 1
}